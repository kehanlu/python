{
 "cells": [
  {
   "cell_type": "markdown",
   "metadata": {
    "slideshow": {
     "slide_type": "slide"
    }
   },
   "source": [
    "# Function & Library\n",
    "\n",
    "`臺科大程式設計研究社`\n",
    "\n",
    "`hanklu`"
   ]
  },
  {
   "cell_type": "markdown",
   "metadata": {
    "slideshow": {
     "slide_type": "slide"
    }
   },
   "source": [
    "## Function\n",
    "[國中數學](\"https://priori.moe.gov.tw/download/textbook/math/grade7/book2/math-7-2-7.pdf\")"
   ]
  },
  {
   "cell_type": "markdown",
   "metadata": {
    "slideshow": {
     "slide_type": "subslide"
    }
   },
   "source": [
    "## Function define\n",
    "\n",
    "- function 是只有你 call 他的時候才會執行的程式碼。\n",
    "- 將複雜的動作抽象化\n",
    "- 方便重複使用"
   ]
  },
  {
   "cell_type": "markdown",
   "metadata": {
    "slideshow": {
     "slide_type": "subslide"
    }
   },
   "source": [
    "## 人類的例子：\n",
    "\n",
    "設計冷氣的公司他把「各種控制晶片的動作」，設計成一個「按鍵」，每次我要調溫度的時候我只要 call 這個 function （按按鍵）就可以了呢。\n",
    "\n",
    "![](https://pgw.udn.com.tw/gw/photo.php?u=https://uc.udn.com.tw/photo/2018/05/22/99/4783949.jpg&x=0&y=0&sw=0&sh=0&exp=3600)"
   ]
  },
  {
   "cell_type": "markdown",
   "metadata": {
    "slideshow": {
     "slide_type": "subslide"
    }
   },
   "source": [
    "## 其實我們已經用過很多 function 了\n",
    "\n",
    "像是： \n",
    "\n",
    "`print()` `input()` `abs()` `range()` `sum()` `max()` `min()`\n",
    "\n",
    "`s.split()`  `s.replace()` `l.append()`\n",
    "\n",
    "太常用所以 python 已經幫你直接寫好了！\n",
    "\n",
    "[all builtin function!](https://docs.python.org/3/library/functions.html)"
   ]
  },
  {
   "cell_type": "code",
   "execution_count": 4,
   "metadata": {
    "slideshow": {
     "slide_type": "-"
    }
   },
   "outputs": [
    {
     "name": "stdout",
     "output_type": "stream",
     "text": [
      "-40\n",
      "15\n"
     ]
    }
   ],
   "source": [
    "print(-5 * abs(-8))\n",
    "\n",
    "print(sum([1,2,3,4,5]))"
   ]
  },
  {
   "cell_type": "markdown",
   "metadata": {
    "slideshow": {
     "slide_type": "subslide"
    }
   },
   "source": [
    "\n",
    "- `def` (define) 開頭\n",
    "- `function_name` ：自己命名的，和之前變數一樣，最好是個有意義的字\n",
    "- `()` 括號中放入參數，未來使用的時候傳入的值，就是一種變數啦\n",
    "- `return` 可有可無，但 function 只要遇到 `return` 就會結束，預設是 return `None`\n",
    "- call function 的時候的寫法就是 `function_name(x,y)`\n",
    "- 一樣要使用 `indent` 來排版 code block\n",
    "\n",
    "```python\n",
    "def function_name(x,y):\n",
    "    <statement>\n",
    "    <statement>\n",
    "    return <something>\n",
    "\n",
    "function_name(1,2)\n",
    "```"
   ]
  },
  {
   "cell_type": "code",
   "execution_count": 10,
   "metadata": {
    "slideshow": {
     "slide_type": "subslide"
    }
   },
   "outputs": [
    {
     "name": "stdout",
     "output_type": "stream",
     "text": [
      "hello\n",
      "meow\n",
      "\n",
      "hello\n",
      "meow\n",
      "\n",
      "hello\n",
      "meow\n",
      "\n",
      "hello\n",
      "meow\n",
      "\n"
     ]
    }
   ],
   "source": [
    "def say_hello():\n",
    "    print(\"hello\")\n",
    "    print(\"meow\\n\")\n",
    "    \n",
    "say_hello()\n",
    "say_hello()\n",
    "say_hello()\n",
    "say_hello()"
   ]
  },
  {
   "cell_type": "code",
   "execution_count": 23,
   "metadata": {
    "slideshow": {
     "slide_type": "-"
    }
   },
   "outputs": [
    {
     "name": "stdout",
     "output_type": "stream",
     "text": [
      "hello\n",
      "meow\n",
      "\n",
      "None\n"
     ]
    }
   ],
   "source": [
    "x = say_hello()\n",
    "print(x)"
   ]
  },
  {
   "cell_type": "code",
   "execution_count": 7,
   "metadata": {
    "slideshow": {
     "slide_type": "subslide"
    }
   },
   "outputs": [
    {
     "ename": "TypeError",
     "evalue": "area() missing 1 required positional argument: 'r'",
     "output_type": "error",
     "traceback": [
      "\u001b[0;31m---------------------------------------------------------------------------\u001b[0m",
      "\u001b[0;31mTypeError\u001b[0m                                 Traceback (most recent call last)",
      "\u001b[0;32m<ipython-input-7-2d1bf03a2703>\u001b[0m in \u001b[0;36m<module>\u001b[0;34m()\u001b[0m\n\u001b[1;32m      2\u001b[0m     \u001b[0;32mreturn\u001b[0m \u001b[0mr\u001b[0m\u001b[0;34m**\u001b[0m\u001b[0;36m2\u001b[0m\u001b[0;34m*\u001b[0m\u001b[0;36m3.1415926\u001b[0m\u001b[0;34m\u001b[0m\u001b[0m\n\u001b[1;32m      3\u001b[0m \u001b[0;34m\u001b[0m\u001b[0m\n\u001b[0;32m----> 4\u001b[0;31m \u001b[0mprint\u001b[0m\u001b[0;34m(\u001b[0m\u001b[0marea\u001b[0m\u001b[0;34m(\u001b[0m\u001b[0;34m)\u001b[0m\u001b[0;34m)\u001b[0m\u001b[0;34m\u001b[0m\u001b[0m\n\u001b[0m",
      "\u001b[0;31mTypeError\u001b[0m: area() missing 1 required positional argument: 'r'"
     ]
    }
   ],
   "source": [
    "def area(r):\n",
    "    return r**2*3.1415926\n",
    "\n",
    "print(area())"
   ]
  },
  {
   "cell_type": "code",
   "execution_count": 24,
   "metadata": {
    "slideshow": {
     "slide_type": "subslide"
    }
   },
   "outputs": [
    {
     "name": "stdout",
     "output_type": "stream",
     "text": [
      "閏年\n",
      "閏年\n",
      "平年\n",
      "閏年\n"
     ]
    }
   ],
   "source": [
    "def leap_year(y):\n",
    "    if ((y % 4 == 0 and y % 100 != 0) or (y % 400 == 0 and y % 3200 != 0)):\n",
    "        print(\"閏年\")\n",
    "    else:\n",
    "        print(\"平年\")\n",
    "        \n",
    "leap_year(2000)\n",
    "leap_year(2020)\n",
    "leap_year(1997)\n",
    "leap_year(1888)"
   ]
  },
  {
   "cell_type": "code",
   "execution_count": 27,
   "metadata": {
    "slideshow": {
     "slide_type": "subslide"
    }
   },
   "outputs": [
    {
     "name": "stdout",
     "output_type": "stream",
     "text": [
      "None\n",
      "None\n"
     ]
    }
   ],
   "source": [
    "def newton_second_law(m,a):\n",
    "    f = m*a\n",
    "\n",
    "print(newton_second_law(2,3))\n",
    "print(newton_second_law(100,200))"
   ]
  },
  {
   "attachments": {},
   "cell_type": "markdown",
   "metadata": {},
   "source": [
    "![](https://i.imgur.com/JsO23sR.png)"
   ]
  },
  {
   "cell_type": "markdown",
   "metadata": {
    "slideshow": {
     "slide_type": "subslide"
    }
   },
   "source": [
    "## 為什麼要寫function：好的設計"
   ]
  },
  {
   "cell_type": "code",
   "execution_count": 22,
   "metadata": {},
   "outputs": [
    {
     "name": "stdout",
     "output_type": "stream",
     "text": [
      "['nctu', 'ntust', 'ntust']\n",
      "['nchu', 'nctu', 'ntu', 'nchu', 'ntust', 'nchu']\n",
      "['ntu', 'ntust', 'nchu', 'nctu']\n"
     ]
    }
   ],
   "source": [
    "mail_list1= [\"B10908106@m.nctu.edu.tw\", \"A10512047@mail.ntust.edu.tw\", \"B10926062@mail.ntust.edu.tw\"]\n",
    "mail_list2= [\"A10627133@nchu.edu.tw\", \"B10302119@m.nctu.edu.tw\", \"A10123186@ntu.edu.tw\", \"B10224003@nchu.edu.tw\", \"B10129192@mail.ntust.edu.tw\", \"B10019112@nchu.edu.tw\"]\n",
    "mail_list3 = [\"B10811042@ntu.edu.tw\", \"A10811075@mail.ntust.edu.tw\", \"B10719186@nchu.edu.tw\", \"B10708071@m.nctu.edu.tw\"]\n",
    "\n",
    "school_list1 = []\n",
    "for mail in mail_list1:\n",
    "    school = mail.split(\"@\")[1].split(\".\")[-3]\n",
    "    school_list1.append(school)\n",
    "\n",
    "school_list2 = []\n",
    "for mail in mail_list2:\n",
    "    school = mail.split(\"@\")[1].split(\".\")[-3]\n",
    "    school_list2.append(school)\n",
    "\n",
    "school_list3 = []\n",
    "for mail in mail_list3:\n",
    "    school = mail.split(\"@\")[1].split(\".\")[-3]\n",
    "    school_list3.append(school)\n",
    "\n",
    "print(school_list1)\n",
    "print(school_list2)\n",
    "print(school_list3)"
   ]
  },
  {
   "cell_type": "code",
   "execution_count": 21,
   "metadata": {
    "slideshow": {
     "slide_type": "subslide"
    }
   },
   "outputs": [
    {
     "name": "stdout",
     "output_type": "stream",
     "text": [
      "['nctu', 'ntust', 'ntust']\n",
      "['nchu', 'nctu', 'ntu', 'nchu', 'ntust', 'nchu']\n",
      "['ntu', 'ntust', 'nchu', 'nctu']\n"
     ]
    }
   ],
   "source": [
    "def extract_school(mail_list):\n",
    "    school_list = []\n",
    "    for mail in mail_list:\n",
    "        school = mail.split(\"@\")[1].split(\".\")[-3]\n",
    "        school_list.append(school)\n",
    "    return school_list\n",
    "        \n",
    "school_list1 = extract_school(mail_list1)\n",
    "school_list2 = extract_school(mail_list2)\n",
    "school_list3 = extract_school(mail_list3)\n",
    "\n",
    "print(school_list1)\n",
    "print(school_list2)\n",
    "print(school_list3)"
   ]
  },
  {
   "cell_type": "markdown",
   "metadata": {
    "slideshow": {
     "slide_type": "subslide"
    }
   },
   "source": [
    "## 練習：扇形面積\n",
    "\n",
    "設計一個 function 當傳入 `半徑` 和 `角度` 的時候， `return` 該扇形的面積\n"
   ]
  },
  {
   "cell_type": "code",
   "execution_count": 74,
   "metadata": {},
   "outputs": [
    {
     "ename": "TypeError",
     "evalue": "area() takes 0 positional arguments but 2 were given",
     "output_type": "error",
     "traceback": [
      "\u001b[0;31m---------------------------------------------------------------\u001b[0m",
      "\u001b[0;31mTypeError\u001b[0m                     Traceback (most recent call last)",
      "\u001b[0;32m<ipython-input-74-f863d26de415>\u001b[0m in \u001b[0;36m<module>\u001b[0;34m()\u001b[0m\n\u001b[1;32m      3\u001b[0m     \u001b[0;32mreturn\u001b[0m\u001b[0;34m\u001b[0m\u001b[0m\n\u001b[1;32m      4\u001b[0m \u001b[0;34m\u001b[0m\u001b[0m\n\u001b[0;32m----> 5\u001b[0;31m \u001b[0mprint\u001b[0m\u001b[0;34m(\u001b[0m\u001b[0marea\u001b[0m\u001b[0;34m(\u001b[0m\u001b[0;36m3\u001b[0m\u001b[0;34m,\u001b[0m\u001b[0;36m90\u001b[0m\u001b[0;34m)\u001b[0m\u001b[0;34m)\u001b[0m\u001b[0;34m\u001b[0m\u001b[0m\n\u001b[0m\u001b[1;32m      6\u001b[0m \u001b[0mprint\u001b[0m\u001b[0;34m(\u001b[0m\u001b[0marea\u001b[0m\u001b[0;34m(\u001b[0m\u001b[0;36m4\u001b[0m\u001b[0;34m,\u001b[0m\u001b[0;36m180\u001b[0m\u001b[0;34m)\u001b[0m\u001b[0;34m)\u001b[0m\u001b[0;34m\u001b[0m\u001b[0m\n\u001b[1;32m      7\u001b[0m \u001b[0mprint\u001b[0m\u001b[0;34m(\u001b[0m\u001b[0marea\u001b[0m\u001b[0;34m(\u001b[0m\u001b[0;36m10\u001b[0m\u001b[0;34m,\u001b[0m\u001b[0;36m360\u001b[0m\u001b[0;34m)\u001b[0m\u001b[0;34m)\u001b[0m\u001b[0;34m\u001b[0m\u001b[0m\n",
      "\u001b[0;31mTypeError\u001b[0m: area() takes 0 positional arguments but 2 were given"
     ]
    }
   ],
   "source": [
    "def area():\n",
    "    # do something\n",
    "    return \n",
    "\n",
    "print(area(3,90))\n",
    "print(area(4,180))\n",
    "print(area(10,360))"
   ]
  },
  {
   "cell_type": "markdown",
   "metadata": {
    "slideshow": {
     "slide_type": "subslide"
    }
   },
   "source": [
    "## 練習：平均\n",
    "\n",
    "傳入一個 list `return` 該 list 裡的值的平均值"
   ]
  },
  {
   "cell_type": "code",
   "execution_count": 67,
   "metadata": {
    "slideshow": {
     "slide_type": "-"
    }
   },
   "outputs": [
    {
     "ename": "SyntaxError",
     "evalue": "invalid syntax (<ipython-input-67-9c011c02a6d0>, line 2)",
     "output_type": "error",
     "traceback": [
      "\u001b[0;36m  File \u001b[0;32m\"<ipython-input-67-9c011c02a6d0>\"\u001b[0;36m, line \u001b[0;32m2\u001b[0m\n\u001b[0;31m    for ...\u001b[0m\n\u001b[0m           ^\u001b[0m\n\u001b[0;31mSyntaxError\u001b[0m\u001b[0;31m:\u001b[0m invalid syntax\n"
     ]
    }
   ],
   "source": [
    "def mean():\n",
    "    for ...\n",
    "    # do something\n",
    "    return\n",
    "\n",
    "print(mean([1,2,3,4,5]))\n",
    "print(mean([4,4,4,4,4,4,4]))\n",
    "print(mean([88,90,92,100,102,103]))"
   ]
  },
  {
   "cell_type": "markdown",
   "metadata": {
    "slideshow": {
     "slide_type": "slide"
    }
   },
   "source": [
    "## argument 也可以有預設值\n",
    "\n",
    "### positional argument\n",
    "\n",
    "- call function 時要按照順序\n",
    "\n",
    "### default argiment\n",
    "- 一定要在 positional argument 之後\n",
    "- 只要 call function 時有傳入，就會被蓋掉\n",
    "- call function 若傳入時沒有指定名稱的話，也是按照順序\n",
    "\n",
    "<img src=\"https://i.imgur.com/U5AOMt0.png\" width=\"500px\">"
   ]
  },
  {
   "cell_type": "code",
   "execution_count": 47,
   "metadata": {
    "slideshow": {
     "slide_type": "subslide"
    }
   },
   "outputs": [
    {
     "name": "stdout",
     "output_type": "stream",
     "text": [
      "hello! hank good bye!\n",
      "meow!! mary wwwwwwww\n",
      "hey!!! mary see you!\n"
     ]
    }
   ],
   "source": [
    "def say_hello(name,start_msg=\"hello!\",end_msg=\"good bye!\"):\n",
    "    print(start_msg,name,end_msg)\n",
    "\n",
    "say_hello(\"hank\") # 沒有傳入\n",
    "say_hello(\"mary\",end_msg=\"wwwwwwww\",start_msg=\"meow!!\") # 以名稱傳入\n",
    "say_hello(\"mary\",\"hey!!!\",\"see you!\") # 以位置傳入"
   ]
  },
  {
   "cell_type": "markdown",
   "metadata": {
    "slideshow": {
     "slide_type": "slide"
    }
   },
   "source": [
    "## Library( Module, Package)\n",
    "\n",
    "- 站在巨人的肩膀上\n",
    "- 不要重複造輪子 [wiki](https://zh.wikipedia.org/wiki/%E9%87%8D%E9%80%A0%E8%BD%AE%E5%AD%90)\n",
    "- [What is the difference between Python modules, packages, libraries, and frameworks?](https://www.quora.com/What-is-the-difference-between-Python-modules-packages-libraries-and-frameworks)\n",
    "\n",
    "![](https://case.ntu.edu.tw/blog/wp-content/uploads/2018/03/479748503_m.jpg)"
   ]
  },
  {
   "cell_type": "markdown",
   "metadata": {
    "slideshow": {
     "slide_type": "subslide"
    }
   },
   "source": [
    "`Library, module, package` 就是別人寫的程式碼，我們可以把他下載下來用\n",
    "\n",
    "或是 [builtin module](https://docs.python.org/3/py-modindex.html)"
   ]
  },
  {
   "cell_type": "markdown",
   "metadata": {
    "slideshow": {
     "slide_type": "subslide"
    }
   },
   "source": [
    "## import\n",
    "\n",
    "- 兩種 import 方式\n",
    "- 沒有 import 不能用，通常會放在程式碼的最上面\n",
    "- Google google google!\n",
    "\n",
    "```python\n",
    "import a\n",
    "\n",
    "from a import b\n",
    "```"
   ]
  },
  {
   "cell_type": "code",
   "execution_count": 75,
   "metadata": {
    "slideshow": {
     "slide_type": "subslide"
    }
   },
   "outputs": [
    {
     "ename": "ModuleNotFoundError",
     "evalue": "No module named 'xxx'",
     "output_type": "error",
     "traceback": [
      "\u001b[0;31m---------------------------------------------------------------\u001b[0m",
      "\u001b[0;31mModuleNotFoundError\u001b[0m           Traceback (most recent call last)",
      "\u001b[0;32m<ipython-input-75-b3c0234a74c5>\u001b[0m in \u001b[0;36m<module>\u001b[0;34m()\u001b[0m\n\u001b[0;32m----> 1\u001b[0;31m \u001b[0;32mimport\u001b[0m \u001b[0mxxx\u001b[0m\u001b[0;34m\u001b[0m\u001b[0m\n\u001b[0m\u001b[1;32m      2\u001b[0m \u001b[0;34m\u001b[0m\u001b[0m\n\u001b[1;32m      3\u001b[0m \u001b[0;32mfrom\u001b[0m \u001b[0mxxx\u001b[0m \u001b[0;32mimport\u001b[0m \u001b[0mxxx\u001b[0m\u001b[0;34m\u001b[0m\u001b[0m\n",
      "\u001b[0;31mModuleNotFoundError\u001b[0m: No module named 'xxx'"
     ]
    }
   ],
   "source": [
    "import xxx"
   ]
  },
  {
   "cell_type": "code",
   "execution_count": 78,
   "metadata": {},
   "outputs": [
    {
     "ename": "ModuleNotFoundError",
     "evalue": "No module named 'xxx'",
     "output_type": "error",
     "traceback": [
      "\u001b[0;31m---------------------------------------------------------------\u001b[0m",
      "\u001b[0;31mModuleNotFoundError\u001b[0m           Traceback (most recent call last)",
      "\u001b[0;32m<ipython-input-78-67d113688645>\u001b[0m in \u001b[0;36m<module>\u001b[0;34m()\u001b[0m\n\u001b[0;32m----> 1\u001b[0;31m \u001b[0;32mfrom\u001b[0m \u001b[0mxxx\u001b[0m \u001b[0;32mimport\u001b[0m \u001b[0myyy\u001b[0m\u001b[0;34m\u001b[0m\u001b[0m\n\u001b[0m",
      "\u001b[0;31mModuleNotFoundError\u001b[0m: No module named 'xxx'"
     ]
    }
   ],
   "source": [
    "from xxx import yyy"
   ]
  },
  {
   "cell_type": "code",
   "execution_count": 85,
   "metadata": {
    "slideshow": {
     "slide_type": "subslide"
    }
   },
   "outputs": [
    {
     "name": "stdout",
     "output_type": "stream",
     "text": [
      "47\n",
      "orange\n",
      "53\n",
      "apple\n",
      "30\n",
      "apple\n",
      "56\n",
      "mango\n",
      "15\n",
      "apple\n"
     ]
    }
   ],
   "source": [
    "import random\n",
    "\n",
    "for i in range(5):\n",
    "    print(random.randint(1,100) )\n",
    "    print(random.choice([\"apple\",\"mango\",\"orange\"]))"
   ]
  },
  {
   "cell_type": "markdown",
   "metadata": {
    "slideshow": {
     "slide_type": "subslide"
    }
   },
   "source": [
    "[math 的 document](https://docs.python.org/3/library/math.html)\n",
    "\n",
    "[random 的 document](https://docs.python.org/3/library/random.html)\n",
    "\n",
    "Source Code?!\n",
    "\n",
    "> my Mac: /usr/local/Cellar/python/3.6.5/Frameworks/Python.framework/Versions/3.6/lib/python3.6"
   ]
  },
  {
   "cell_type": "code",
   "execution_count": 58,
   "metadata": {
    "slideshow": {
     "slide_type": "-"
    }
   },
   "outputs": [
    {
     "name": "stdout",
     "output_type": "stream",
     "text": [
      "3.141592653589793\n",
      "0.1411200080598672\n",
      "2.302585092994046\n"
     ]
    }
   ],
   "source": [
    "import math\n",
    "\n",
    "print(math.pi)\n",
    "print(math.sin(3))\n",
    "print(math.log(10))"
   ]
  },
  {
   "cell_type": "code",
   "execution_count": 60,
   "metadata": {
    "slideshow": {
     "slide_type": "subslide"
    }
   },
   "outputs": [
    {
     "name": "stdout",
     "output_type": "stream",
     "text": [
      "3.141592653589793\n",
      "0.1411200080598672\n",
      "2.302585092994046\n"
     ]
    }
   ],
   "source": [
    "from math import pi, sin, log\n",
    "\n",
    "print(pi)\n",
    "print(sin(3))\n",
    "print(log(10))"
   ]
  },
  {
   "cell_type": "markdown",
   "metadata": {
    "slideshow": {
     "slide_type": "subslide"
    }
   },
   "source": [
    "## 練習：快放暑假了！\n",
    "\n",
    "python 裡面有一個跟日期相關的 library ，能不能請你使用 google 來找到他，並用 python 算一下`今天`距離 `2100 年的 7 月 1 日`還有幾天呢？"
   ]
  },
  {
   "cell_type": "code",
   "execution_count": null,
   "metadata": {},
   "outputs": [],
   "source": []
  }
 ],
 "metadata": {
  "celltoolbar": "Slideshow",
  "kernelspec": {
   "display_name": "Python 3",
   "language": "python",
   "name": "python3"
  },
  "language_info": {
   "codemirror_mode": {
    "name": "ipython",
    "version": 3
   },
   "file_extension": ".py",
   "mimetype": "text/x-python",
   "name": "python",
   "nbconvert_exporter": "python",
   "pygments_lexer": "ipython3",
   "version": "3.6.5"
  }
 },
 "nbformat": 4,
 "nbformat_minor": 2
}
