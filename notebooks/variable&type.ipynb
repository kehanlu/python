{
 "cells": [
  {
   "cell_type": "markdown",
   "metadata": {
    "slideshow": {
     "slide_type": "slide"
    }
   },
   "source": [
    "# Variable & Type\n",
    "`臺科大 程式設計研究社`\n",
    "\n",
    "`hanklu`"
   ]
  },
  {
   "cell_type": "markdown",
   "metadata": {
    "slideshow": {
     "slide_type": "slide"
    }
   },
   "source": [
    "# Variable"
   ]
  },
  {
   "cell_type": "markdown",
   "metadata": {
    "slideshow": {
     "slide_type": "subslide"
    }
   },
   "source": [
    "- 程式是由「資料」和「指令」所組成\n",
    "- `=`\n",
    "    - assign 賦值、指派\n",
    "    - 把值放進叫做 x 的箱子\n",
    "![](https://i.imgur.com/Q6kGdBQ.png)"
   ]
  },
  {
   "cell_type": "code",
   "execution_count": 21,
   "metadata": {
    "slideshow": {
     "slide_type": "subslide"
    }
   },
   "outputs": [
    {
     "name": "stdout",
     "output_type": "stream",
     "text": [
      "3\n"
     ]
    }
   ],
   "source": [
    "x = 1\n",
    "y = 2\n",
    "print(x+y)"
   ]
  },
  {
   "cell_type": "markdown",
   "metadata": {
    "slideshow": {
     "slide_type": "-"
    }
   },
   "source": [
    "![](https://i.imgur.com/FstpeaU.png)"
   ]
  },
  {
   "cell_type": "markdown",
   "metadata": {
    "slideshow": {
     "slide_type": "subslide"
    }
   },
   "source": [
    "## 命名的規則\n",
    "\n",
    "- 以英文字母開頭\n",
    "- 只能用\n",
    "    - A-z  ，大小寫有別\n",
    "    - 0-9\n",
    "    - `_`   (底線)\n",
    "- 保留字不能用\n",
    "![](https://i.imgur.com/ITAlZsf.png)"
   ]
  },
  {
   "cell_type": "markdown",
   "metadata": {
    "slideshow": {
     "slide_type": "subslide"
    }
   },
   "source": [
    "## 使用好理解的命名，寫程式也要兼顧可讀性\n",
    "### Good:\n",
    "- num_of_days\n",
    "- count\n",
    "- message_from_user\n",
    "\n",
    "### Bad:\n",
    "- a1,b1,c1\n",
    "- lIll1, magic_number,  i_dont_want_any_bug"
   ]
  },
  {
   "cell_type": "markdown",
   "metadata": {
    "slideshow": {
     "slide_type": "subslide"
    }
   },
   "source": [
    "## 練習：交換兩個數字"
   ]
  },
  {
   "cell_type": "code",
   "execution_count": 16,
   "metadata": {
    "slideshow": {
     "slide_type": "-"
    }
   },
   "outputs": [
    {
     "name": "stdout",
     "output_type": "stream",
     "text": [
      "5 10\n"
     ]
    }
   ],
   "source": [
    "x = 5\n",
    "y = 10\n",
    "\n",
    "# do yourself\n",
    "\n",
    "print(x, y) # 10, 5"
   ]
  },
  {
   "cell_type": "markdown",
   "metadata": {
    "slideshow": {
     "slide_type": "slide"
    }
   },
   "source": [
    "# Type 型態"
   ]
  },
  {
   "cell_type": "markdown",
   "metadata": {
    "slideshow": {
     "slide_type": "subslide"
    }
   },
   "source": [
    "## note\n",
    "\n",
    "在教學上我們會很頻繁的用 `print()` 來和電腦互動，這讓初學者很快的了解到底 python 做了什麼。\n",
    "\n",
    "未來熟悉之後，可以試著在腦袋裡面運作 python，就不需要每個東西都 `print()` 出來驗證。"
   ]
  },
  {
   "cell_type": "markdown",
   "metadata": {
    "slideshow": {
     "slide_type": "subslide"
    }
   },
   "source": [
    "`type(x)` 回傳 x 物件的的型態\n",
    "\n",
    "## python 內建型態：\n",
    "- `bool` 布林值(True/False)\n",
    "- `int` 整數\n",
    "- `float` 浮點數（帶有小數的數）\n",
    "- `str` 字串\n",
    "- `list` 串列\n",
    "- `dict` 字典"
   ]
  },
  {
   "cell_type": "code",
   "execution_count": 32,
   "metadata": {
    "slideshow": {
     "slide_type": "subslide"
    }
   },
   "outputs": [
    {
     "name": "stdout",
     "output_type": "stream",
     "text": [
      "<class 'bool'>\n",
      "<class 'int'>\n",
      "<class 'float'>\n",
      "<class 'str'>\n",
      "<class 'str'>\n",
      "<class 'list'>\n",
      "<class 'dict'>\n"
     ]
    }
   ],
   "source": [
    "print(type(True))\n",
    "print(type(1))\n",
    "print(type(3.14))\n",
    "print(type(\"0987878887\"))\n",
    "print(type(\"Happy pig\"))\n",
    "print(type(['a','b','c']))\n",
    "print(type({\"name\":\"hank\",\"sid\":\"B10530000\"}))"
   ]
  },
  {
   "cell_type": "code",
   "execution_count": 33,
   "metadata": {
    "slideshow": {
     "slide_type": "subslide"
    }
   },
   "outputs": [
    {
     "name": "stdout",
     "output_type": "stream",
     "text": [
      "<class 'bool'>\n",
      "<class 'int'>\n",
      "<class 'float'>\n",
      "<class 'str'>\n",
      "<class 'list'>\n",
      "<class 'dict'>\n"
     ]
    }
   ],
   "source": [
    "x = True\n",
    "print(type(x))\n",
    "x = 1\n",
    "print(type(x))\n",
    "x = 3.14\n",
    "print(type(x))\n",
    "x = \"pig pig pig\"\n",
    "print(type(x))\n",
    "x = ['a','b','c']\n",
    "print(type(x))\n",
    "x = {\"name\":\"hank\",\"sid\":\"B10530000\"}\n",
    "print(type(x))"
   ]
  },
  {
   "cell_type": "markdown",
   "metadata": {
    "slideshow": {
     "slide_type": "slide"
    }
   },
   "source": [
    "# int float\n",
    "\n",
    "### 四則運算\n",
    "\n",
    "|符號|解釋|用法|\n",
    "|--|--|--|\n",
    "|+|加法|2 + 3 = 5|\n",
    "|-|減法|2 - 3 = -1|\n",
    "|\\*|乘法|2 * 3 = 6|\n",
    "|/|浮點數除法|3 / 2 = 1.5|\n",
    "|//|整數除法 (商數)|3 // 2 = 1|\n",
    "|%|餘數|3 % 2 = 1|\n",
    "|\\*\\*|次方|2 \\*\\* 3 = 8|"
   ]
  },
  {
   "cell_type": "code",
   "execution_count": 15,
   "metadata": {},
   "outputs": [
    {
     "name": "stdout",
     "output_type": "stream",
     "text": [
      "15\n",
      "10\n",
      "15\n",
      "20\n"
     ]
    }
   ],
   "source": [
    "x = 10\n",
    "print(x+5)\n",
    "print(x)\n",
    "\n",
    "x = x + 5\n",
    "print(x)\n",
    "\n",
    "x += 5\n",
    "print(x)"
   ]
  },
  {
   "cell_type": "markdown",
   "metadata": {
    "slideshow": {
     "slide_type": "subslide"
    }
   },
   "source": [
    "# string\n",
    "\n",
    "- 以`\"\"` 或 `''`包起來\n",
    "- `a+b` 將b加在a之後\n",
    "- `a*b` 將a重複b次`(b is int)`"
   ]
  },
  {
   "cell_type": "code",
   "execution_count": 101,
   "metadata": {
    "slideshow": {
     "slide_type": "subslide"
    }
   },
   "outputs": [
    {
     "name": "stdout",
     "output_type": "stream",
     "text": [
      "hello world, \n",
      "goodbye everyone\n",
      "hello world, hello world, \n",
      "hello world, goodbye everyone\n",
      "hello world,  xxxxx goodbye everyone~~~~~~~~~~~~~~~~~~~~\n"
     ]
    }
   ],
   "source": [
    "s1 = 'hello world, '\n",
    "s2 = \"goodbye everyone\"\n",
    "print(s1)\n",
    "print(s2)\n",
    "print(s1 * 2)\n",
    "print(s1+s2)\n",
    "print(s1+' xxxxx '+s2+'~'*20)"
   ]
  },
  {
   "cell_type": "markdown",
   "metadata": {
    "slideshow": {
     "slide_type": "subslide"
    }
   },
   "source": [
    "## 型態轉換\n",
    "\n",
    "把某個型態轉換成其他型態\n",
    "\n",
    "\n",
    "### `int()` `float()`\n",
    "\n",
    "- 從其他形態轉成 int,float\n",
    "- 需注意是否為數字：不能將 'abc' 轉換成「數字」\n",
    "\n",
    "### `str()` \n",
    "- 將其他型態轉換為 string"
   ]
  },
  {
   "cell_type": "code",
   "execution_count": 22,
   "metadata": {
    "slideshow": {
     "slide_type": "subslide"
    }
   },
   "outputs": [
    {
     "name": "stdout",
     "output_type": "stream",
     "text": [
      "3.14\n",
      "<class 'float'>\n",
      "3\n",
      "<class 'int'>\n",
      "happy\n"
     ]
    },
    {
     "ename": "ValueError",
     "evalue": "invalid literal for int() with base 10: 'happy'",
     "output_type": "error",
     "traceback": [
      "\u001b[0;31m---------------------------------------------------------------------------\u001b[0m",
      "\u001b[0;31mValueError\u001b[0m                                Traceback (most recent call last)",
      "\u001b[0;32m<ipython-input-22-8bc3710f4df4>\u001b[0m in \u001b[0;36m<module>\u001b[0;34m()\u001b[0m\n\u001b[1;32m     11\u001b[0m \u001b[0my\u001b[0m \u001b[0;34m=\u001b[0m \u001b[0;34m\"happy\"\u001b[0m\u001b[0;34m\u001b[0m\u001b[0m\n\u001b[1;32m     12\u001b[0m \u001b[0mprint\u001b[0m\u001b[0;34m(\u001b[0m\u001b[0my\u001b[0m\u001b[0;34m)\u001b[0m\u001b[0;34m\u001b[0m\u001b[0m\n\u001b[0;32m---> 13\u001b[0;31m \u001b[0mprint\u001b[0m\u001b[0;34m(\u001b[0m\u001b[0mint\u001b[0m\u001b[0;34m(\u001b[0m\u001b[0my\u001b[0m\u001b[0;34m)\u001b[0m\u001b[0;34m)\u001b[0m  \u001b[0;31m# type error! 不能將 \"happy\" 轉成數字\u001b[0m\u001b[0;34m\u001b[0m\u001b[0m\n\u001b[0m",
      "\u001b[0;31mValueError\u001b[0m: invalid literal for int() with base 10: 'happy'"
     ]
    }
   ],
   "source": [
    "# int() 型態轉換\n",
    "\n",
    "x = 3.14\n",
    "print(x)\n",
    "print(type(x))\n",
    "\n",
    "x = int(x)\n",
    "print(x)\n",
    "print(type(x))\n",
    "\n",
    "y = \"happy\"\n",
    "print(y)\n",
    "print(int(y))  # type error! 不能將 \"happy\" 轉成數字"
   ]
  },
  {
   "cell_type": "code",
   "execution_count": 23,
   "metadata": {
    "slideshow": {
     "slide_type": "subslide"
    }
   },
   "outputs": [
    {
     "name": "stdout",
     "output_type": "stream",
     "text": [
      "3\n",
      "3.0\n",
      "3.14\n",
      "3.14\n"
     ]
    }
   ],
   "source": [
    "# float()\n",
    "\n",
    "x = 3\n",
    "print(x)\n",
    "print(float(x)) # 會是 3.0\n",
    "\n",
    "x = \"3.14\"\n",
    "print(x)\n",
    "print(float(x))"
   ]
  },
  {
   "cell_type": "code",
   "execution_count": 24,
   "metadata": {
    "slideshow": {
     "slide_type": "subslide"
    }
   },
   "outputs": [
    {
     "name": "stdout",
     "output_type": "stream",
     "text": [
      "300\n",
      "100100100\n"
     ]
    }
   ],
   "source": [
    "# str()\n",
    "\n",
    "x = 100\n",
    "print(x * 3)\n",
    "\n",
    "x = str(x)\n",
    "print(x * 3)"
   ]
  },
  {
   "cell_type": "markdown",
   "metadata": {
    "slideshow": {
     "slide_type": "subslide"
    }
   },
   "source": [
    "# Exercise\n",
    "\n",
    "小明想和飲料公司進貨蜂蜜檸檬，一杯 35 元，他要買 100 杯，請問他要帶多少錢？"
   ]
  },
  {
   "cell_type": "code",
   "execution_count": 78,
   "metadata": {
    "slideshow": {
     "slide_type": "subslide"
    }
   },
   "outputs": [
    {
     "name": "stdout",
     "output_type": "stream",
     "text": [
      "3500\n",
      "3500\n"
     ]
    }
   ],
   "source": [
    "print(35 * 100)\n",
    "\n",
    "# or\n",
    "\n",
    "price = 35\n",
    "number = 100\n",
    "print(price * number)"
   ]
  },
  {
   "cell_type": "markdown",
   "metadata": {
    "slideshow": {
     "slide_type": "subslide"
    }
   },
   "source": [
    "# Exercise\n",
    "\n",
    "小明還沒決定買幾杯，你可以幫他寫一隻程式，讓他隨時可以輸入一杯的單價和買的量，print()出他需要帶多少錢嗎？？"
   ]
  },
  {
   "cell_type": "code",
   "execution_count": 79,
   "metadata": {
    "slideshow": {
     "slide_type": "-"
    }
   },
   "outputs": [
    {
     "name": "stdout",
     "output_type": "stream",
     "text": [
      "15\n"
     ]
    }
   ],
   "source": [
    "price = int(input())\n",
    "# do your self...\n"
   ]
  },
  {
   "cell_type": "markdown",
   "metadata": {
    "slideshow": {
     "slide_type": "slide"
    }
   },
   "source": [
    "## 初探 function & method\n",
    "\n",
    "- method 是一種 function，兩者作用的地方不太一樣\n",
    "- 會用 call 這個動詞來說明使用一個 function 或 method（call `print()` function）\n",
    "- 每個 function 都有名字\n",
    "- 可以傳入「參數(parameter)」\n",
    "- 會 return 值或 None\n",
    "\n",
    "<img src=\"https://upload.wikimedia.org/wikipedia/commons/thumb/3/3b/Function_machine2.svg/1200px-Function_machine2.svg.png\" width=\"200px\">"
   ]
  },
  {
   "cell_type": "markdown",
   "metadata": {
    "slideshow": {
     "slide_type": "subslide"
    }
   },
   "source": [
    "## Function\n",
    "\n",
    "<img src=\"https://i.imgur.com/VzAaPlf.png\" width=\"400px\">"
   ]
  },
  {
   "cell_type": "code",
   "execution_count": 7,
   "metadata": {
    "slideshow": {
     "slide_type": "-"
    }
   },
   "outputs": [
    {
     "name": "stdout",
     "output_type": "stream",
     "text": [
      "3.14\n",
      "-3.14\n",
      "3.14\n"
     ]
    }
   ],
   "source": [
    "x = -3.14\n",
    "print(abs(x))\n",
    "print(x)\n",
    "\n",
    "x = abs(x)\n",
    "print(x)"
   ]
  },
  {
   "cell_type": "markdown",
   "metadata": {
    "slideshow": {
     "slide_type": "subslide"
    }
   },
   "source": [
    "### `print()` 是我們已經用的很習慣的 function\n",
    "- return None  (回傳一個 None)\n",
    "- 他可以有不同的「參數」\n",
    "![](https://i.imgur.com/wAc08qX.png)"
   ]
  },
  {
   "cell_type": "code",
   "execution_count": 9,
   "metadata": {
    "slideshow": {
     "slide_type": "subslide"
    }
   },
   "outputs": [
    {
     "name": "stdout",
     "output_type": "stream",
     "text": [
      "hello world\n",
      "hello world today is a good day\n",
      "hello world~~~~~~today is a good day~~~~~~hello world!!!\n",
      "\n",
      "\n"
     ]
    }
   ],
   "source": [
    "x = \"hello world\"\n",
    "print(x)\n",
    "print(x,'today is a good day')\n",
    "print(x,'today is a good day',x,sep=\"~~~~~~\",end=\"!!!\\n\\n\\n\")"
   ]
  },
  {
   "cell_type": "markdown",
   "metadata": {
    "slideshow": {
     "slide_type": "subslide"
    }
   },
   "source": [
    "## method 是什麼呢？\n",
    "\n",
    "- 不同「型態」上的 function，如 `string` 的 method\n",
    "- 用 `.` 接在一個 `variable`、`object` 之後"
   ]
  },
  {
   "cell_type": "code",
   "execution_count": 11,
   "metadata": {
    "slideshow": {
     "slide_type": "subslide"
    }
   },
   "outputs": [
    {
     "name": "stdout",
     "output_type": "stream",
     "text": [
      "11\n",
      "hey! world\n",
      "big mouce\n"
     ]
    }
   ],
   "source": [
    "x = \"hello world\"\n",
    "# 對 len() 這個 function 傳入 x 這個 string\n",
    "print(len(x))\n",
    "\n",
    "# replace() 是一種 string 的「方法」\n",
    "# 對 x 這個 string 做一個 replace() 的動作，傳入 \"hello\",\"hey!\" 兩個參數，回傳一個新的 string\n",
    "print(x.replace(\"hello\",\"hey!\"))\n",
    "print('mickey mouce'.replace(\"mickey\",\"big\"))"
   ]
  },
  {
   "cell_type": "markdown",
   "metadata": {
    "slideshow": {
     "slide_type": "slide"
    }
   },
   "source": [
    "## string常用的\n",
    "\n",
    "[see document](https://docs.python.org/3.6/library/stdtypes.html#string-methods)\n",
    "\n",
    "## function\n",
    "\n",
    "`len(x)` 回傳x字串的長度\n",
    "\n",
    "## method\n",
    "\n",
    "以`.` 接在 string variable 之後\n",
    "\n",
    "### `s.replace(a,b)`\n",
    "\n",
    "- 將 a 的內容以 b 取代"
   ]
  },
  {
   "cell_type": "code",
   "execution_count": 42,
   "metadata": {
    "slideshow": {
     "slide_type": "subslide"
    }
   },
   "outputs": [
    {
     "name": "stdout",
     "output_type": "stream",
     "text": [
      "I like to eat apple\n",
      "Iliketoeatapple\n",
      "I like to eat banana\n",
      "I don't like to eat banana\n"
     ]
    }
   ],
   "source": [
    "s = \"I like to eat apple\"\n",
    "\n",
    "print(s)\n",
    "print(s.replace(\" \",\"\")) # replace space with nothing!  -> 去除空白\n",
    "print(s.replace(\"apple\",\"banana\"))  # replace apple with banana\n",
    "\n",
    "s = s.replace(\"apple\",\"banana\").replace(\"like\",\"don't like\") #先替換 apple 再替換 like\n",
    "print(s)"
   ]
  },
  {
   "cell_type": "markdown",
   "metadata": {
    "slideshow": {
     "slide_type": "subslide"
    }
   },
   "source": [
    "## string method\n",
    "\n",
    "### `s.strip(a)`\n",
    "- 預設 a 為 `\" \"` (空白)\n",
    "- 把 a 從頭尾去除\n",
    "\n",
    "### `s.lstript(a)` \n",
    "- 把 a 從左邊去除\n",
    "\n",
    "### `s.rstript(a)`\n",
    "- 把 a 從右邊去除\n"
   ]
  },
  {
   "cell_type": "code",
   "execution_count": 35,
   "metadata": {
    "slideshow": {
     "slide_type": "subslide"
    }
   },
   "outputs": [
    {
     "name": "stdout",
     "output_type": "stream",
     "text": [
      "    hey whats up   \n",
      "hey whats up\n",
      " hey whats up ++++\n",
      " hey whats up ++++\n",
      "++++ hey whats up \n"
     ]
    }
   ],
   "source": [
    "s = \"    hey whats up   \"\n",
    "print(s)\n",
    "print(s.strip())\n",
    "\n",
    "s = \"++++ hey whats up ++++\"\n",
    "print(s.lstrip(\"+\"))\n",
    "print(s.lstrip(\"+\"))\n",
    "print(s.rstrip(\"+\"))"
   ]
  },
  {
   "cell_type": "markdown",
   "metadata": {
    "slideshow": {
     "slide_type": "subslide"
    }
   },
   "source": [
    "## string method\n",
    "\n",
    "### `s.split(a)`\n",
    "- 以 `a` 切開\n",
    "- 預設為空白\n",
    "\n",
    "### `s.count(a)`\n",
    "\n",
    "- 字串中有多少個 `a`\n",
    "\n",
    "### `s.startswith(a)` `s.endswith(a)`\n",
    "\n",
    "- 字串中是不是以 `a` 為開頭？\n",
    "- 回傳 True/False"
   ]
  },
  {
   "cell_type": "code",
   "execution_count": 52,
   "metadata": {
    "slideshow": {
     "slide_type": "subslide"
    }
   },
   "outputs": [
    {
     "name": "stdout",
     "output_type": "stream",
     "text": [
      "['it', 'is', 'the', 'real', 'life?/it', 'is', 'just', 'fantasy?']\n",
      "['it is the real life?', 'it is just fantasy?']\n",
      "2\n",
      "True\n",
      "False\n"
     ]
    }
   ],
   "source": [
    "s = \"it is the real life?/it is just fantasy?\"\n",
    "print(s.split())\n",
    "print(s.split('/'))\n",
    "print(s.count('is'))\n",
    "print(s.startswith('it'))\n",
    "print(s.endswith('pineapple'))"
   ]
  },
  {
   "cell_type": "markdown",
   "metadata": {
    "slideshow": {
     "slide_type": "subslide"
    }
   },
   "source": [
    "# 練習：fix bug"
   ]
  },
  {
   "cell_type": "code",
   "execution_count": 95,
   "metadata": {},
   "outputs": [
    {
     "ename": "SyntaxError",
     "evalue": "invalid syntax (<ipython-input-95-3a61db5e5749>, line 4)",
     "output_type": "error",
     "traceback": [
      "\u001b[0;36m  File \u001b[0;32m\"<ipython-input-95-3a61db5e5749>\"\u001b[0;36m, line \u001b[0;32m4\u001b[0m\n\u001b[0;31m    s = \"I want to break free'\u001b[0m\n\u001b[0m    ^\u001b[0m\n\u001b[0;31mSyntaxError\u001b[0m\u001b[0;31m:\u001b[0m invalid syntax\n"
     ]
    }
   ],
   "source": [
    "s = 'this is a book'\n",
    "print(s\n",
    "      \n",
    "s = \"I want to break free'\n",
    "print(s)\n",
    "\n",
    "'under presure' = s\n",
    "print(s[20])\n"
   ]
  },
  {
   "cell_type": "markdown",
   "metadata": {
    "slideshow": {
     "slide_type": "subslide"
    }
   },
   "source": [
    "## string method\n",
    "\n",
    "### `s.format()`\n",
    "- `{}` 標記位置\n",
    "- 將傳入的值替換到指定的位子"
   ]
  },
  {
   "cell_type": "code",
   "execution_count": 86,
   "metadata": {
    "slideshow": {
     "slide_type": "subslide"
    }
   },
   "outputs": [
    {
     "name": "stdout",
     "output_type": "stream",
     "text": [
      "hank loves python\n",
      "jason loves java\n",
      "today is 2019/2/26\n",
      "apple,apple,mango,apple\n"
     ]
    }
   ],
   "source": [
    "s = \"{} loves {}\".format(\"hank\",\"python\")\n",
    "print(s)\n",
    "\n",
    "s = \"{} loves {}\".format(\"jason\",\"java\")\n",
    "print(s)\n",
    "\n",
    "s = \"today is {year}/{month}/{day}\".format(year=2019,month=2,day=26)\n",
    "print(s)\n",
    "\n",
    "s = \"{0},{0},{1},{0}\".format(\"apple\",\"mango\")\n",
    "print(s)"
   ]
  },
  {
   "cell_type": "markdown",
   "metadata": {
    "slideshow": {
     "slide_type": "slide"
    }
   },
   "source": [
    "## List\n",
    "\n",
    "- 一連串的東西\n",
    "- 以 `[]` 框住，逗號分隔"
   ]
  },
  {
   "cell_type": "markdown",
   "metadata": {
    "slideshow": {
     "slide_type": "subslide"
    }
   },
   "source": [
    "## 常用的\n",
    "\n",
    "## function\n",
    "\n",
    "### `len(x)`\n",
    "- 回傳 x 的長度\n",
    "### `sum(x)`\n",
    "- 回傳 x 中所有 element 的和\n",
    "### `max(x)` `min(x)`\n",
    "- 回傳最大值或最小值\n",
    "### `sorted(x),`\n",
    "- 排序 x"
   ]
  },
  {
   "cell_type": "code",
   "execution_count": 56,
   "metadata": {
    "slideshow": {
     "slide_type": "subslide"
    }
   },
   "outputs": [
    {
     "name": "stdout",
     "output_type": "stream",
     "text": [
      "['a', 'b', 'c', 'd', 'e', 'f']\n",
      "6\n",
      "357\n",
      "88\n",
      "6\n",
      "[6, 6, 8, 40, 55, 66, 88, 88]\n"
     ]
    }
   ],
   "source": [
    "alphabets = ['a','b','c','d','e','f']\n",
    "print(alphabets)\n",
    "print(len(alphabets))\n",
    "\n",
    "numbers = [55,6,88,40,6,66,8,88]\n",
    "print(sum(numbers))\n",
    "print(max(numbers))\n",
    "print(min(numbers))\n",
    "print(sorted(numbers))"
   ]
  },
  {
   "cell_type": "markdown",
   "metadata": {
    "slideshow": {
     "slide_type": "subslide"
    }
   },
   "source": [
    "## method\n",
    "\n",
    "### `lst.append(a)` \n",
    "- 將 a 加到 lst 的後面\n",
    "\n",
    "### `lst.pop()` \n",
    "- 將最後一個刪除掉\n"
   ]
  },
  {
   "cell_type": "code",
   "execution_count": 55,
   "metadata": {
    "slideshow": {
     "slide_type": "subslide"
    }
   },
   "outputs": [
    {
     "name": "stdout",
     "output_type": "stream",
     "text": [
      "['a', 'b', 'c', 'd']\n",
      "['a', 'b', 'c', 'd', 'e', 'f']\n",
      "['a', 'b', 'c', 'd', 'e']\n"
     ]
    }
   ],
   "source": [
    "lst = ['a','b','c','d']\n",
    "\n",
    "print(lst)\n",
    "\n",
    "lst.append('e') # 把 'e' 加到後面\n",
    "lst.append('f')\n",
    "print(lst)\n",
    "\n",
    "lst.pop()\n",
    "print(lst)"
   ]
  },
  {
   "cell_type": "markdown",
   "metadata": {
    "slideshow": {
     "slide_type": "subslide"
    }
   },
   "source": [
    "# 練習 fix bug"
   ]
  },
  {
   "cell_type": "code",
   "execution_count": 97,
   "metadata": {},
   "outputs": [
    {
     "ename": "NameError",
     "evalue": "name 'a' is not defined",
     "output_type": "error",
     "traceback": [
      "\u001b[0;31m---------------------------------------------------------------------------\u001b[0m",
      "\u001b[0;31mNameError\u001b[0m                                 Traceback (most recent call last)",
      "\u001b[0;32m<ipython-input-97-4e5fe872370a>\u001b[0m in \u001b[0;36m<module>\u001b[0;34m()\u001b[0m\n\u001b[0;32m----> 1\u001b[0;31m \u001b[0mlst\u001b[0m \u001b[0;34m=\u001b[0m \u001b[0;34m[\u001b[0m\u001b[0ma\u001b[0m\u001b[0;34m,\u001b[0m\u001b[0;34m'b'\u001b[0m\u001b[0;34m,\u001b[0m\u001b[0;34m'c'\u001b[0m\u001b[0;34m]\u001b[0m\u001b[0;34m\u001b[0m\u001b[0m\n\u001b[0m\u001b[1;32m      2\u001b[0m \u001b[0mprint\u001b[0m\u001b[0;34m(\u001b[0m\u001b[0mlst\u001b[0m\u001b[0;34m)\u001b[0m\u001b[0;34m\u001b[0m\u001b[0m\n\u001b[1;32m      3\u001b[0m \u001b[0;34m\u001b[0m\u001b[0m\n\u001b[1;32m      4\u001b[0m \u001b[0mlst\u001b[0m \u001b[0;34m=\u001b[0m \u001b[0;34m{\u001b[0m\u001b[0;36m1\u001b[0m\u001b[0;34m,\u001b[0m\u001b[0;36m2\u001b[0m\u001b[0;34m,\u001b[0m\u001b[0;36m3\u001b[0m\u001b[0;34m,\u001b[0m\u001b[0;36m4\u001b[0m\u001b[0;34m}\u001b[0m\u001b[0;34m\u001b[0m\u001b[0m\n\u001b[1;32m      5\u001b[0m \u001b[0mprint\u001b[0m\u001b[0;34m(\u001b[0m\u001b[0mlst\u001b[0m\u001b[0;34m)\u001b[0m\u001b[0;34m\u001b[0m\u001b[0m\n",
      "\u001b[0;31mNameError\u001b[0m: name 'a' is not defined"
     ]
    }
   ],
   "source": [
    "lst = [a,'b','c']\n",
    "print(lst)\n",
    "\n",
    "lst = {1,2,3,4}\n",
    "print(lst)\n",
    "\n",
    "lst = [1,2,3,4]\n",
    "print(lst[5])"
   ]
  },
  {
   "cell_type": "markdown",
   "metadata": {
    "slideshow": {
     "slide_type": "slide"
    }
   },
   "source": [
    "## Slice 切片\n",
    "\n",
    "- 對 `string`, `list` 取值的方法\n",
    "- `[position]` 第 position 位置的值\n",
    "- `[start: end : step]` 開始、結束、間隔\n",
    "\n",
    "\n",
    "|用法|效果|\n",
    "|-|-|\n",
    "| `[a]` | 提取第 a 項的值|\n",
    "| `[:]` | 提取全部|\n",
    "| `[:b]` | 從第0個 ~ 第 b-1 個|\n",
    "| `[a:]` | 從第a個 ~ 最後|\n",
    "| `[a:b]` | 從第a個 ~ 第 b 個|\n",
    "| `[a:b:c]` | 從第a項開始到第b-1項，每次間隔c|"
   ]
  },
  {
   "cell_type": "code",
   "execution_count": 57,
   "metadata": {
    "slideshow": {
     "slide_type": "subslide"
    }
   },
   "outputs": [
    {
     "name": "stdout",
     "output_type": "stream",
     "text": [
      "7\n",
      "a\n",
      "b\n",
      "<class 'str'>\n"
     ]
    }
   ],
   "source": [
    "s = ['a','b','c','d','e','f','g']\n",
    "\n",
    "print(len(s))\n",
    "print(s[0])\n",
    "print(s[1])\n",
    "print(type(s[1]))"
   ]
  },
  {
   "cell_type": "code",
   "execution_count": 58,
   "metadata": {
    "slideshow": {
     "slide_type": "subslide"
    }
   },
   "outputs": [
    {
     "name": "stdout",
     "output_type": "stream",
     "text": [
      "ABCDE\n",
      "FGHIJK\n",
      "DEFGH\n",
      "ACEGIK\n"
     ]
    }
   ],
   "source": [
    "s = \"ABCDEFGHIJK\"\n",
    "\n",
    "print(s[:5])\n",
    "print(s[5:])\n",
    "print(s[3:8])\n",
    "print(s[::2])"
   ]
  },
  {
   "cell_type": "markdown",
   "metadata": {
    "slideshow": {
     "slide_type": "subslide"
    }
   },
   "source": [
    "# 練習：你幾梯的\n",
    "\n",
    "### 輸入學號 ，判斷他是哪一個學年度入學的？\n",
    "\n",
    "### input\n",
    "B10530001\n",
    "B10300888\n",
    "B10700888\n",
    "M10200111\n",
    "\n",
    "### output\n",
    "105\n",
    "103\n",
    "107\n",
    "102\n"
   ]
  },
  {
   "cell_type": "code",
   "execution_count": 87,
   "metadata": {
    "slideshow": {
     "slide_type": "-"
    }
   },
   "outputs": [
    {
     "name": "stdout",
     "output_type": "stream",
     "text": [
      "1\n"
     ]
    }
   ],
   "source": [
    "sid = input()\n",
    "# do yourself"
   ]
  },
  {
   "cell_type": "markdown",
   "metadata": {
    "slideshow": {
     "slide_type": "subslide"
    }
   },
   "source": [
    "# 練習：你讀哪啦\n",
    "\n",
    "### 輸入某學校的 mail ，判斷他是哪個學校！\n",
    "\n",
    "- `B10530004@mail.ntust.edu.tw`  -> ntust\n",
    "- `b05000000@mail.ntu.edu.tw`  -> ntu\n",
    "- `b05000000@ntnu.edu.tw`  -> ntnu\n",
    "- `b05000000@fju.edu.tw` -> fju"
   ]
  },
  {
   "cell_type": "code",
   "execution_count": 88,
   "metadata": {},
   "outputs": [
    {
     "name": "stdout",
     "output_type": "stream",
     "text": [
      "1\n"
     ]
    }
   ],
   "source": [
    "mail = input()\n",
    "# do yourself"
   ]
  },
  {
   "cell_type": "markdown",
   "metadata": {
    "slideshow": {
     "slide_type": "slide"
    }
   },
   "source": [
    "## dict 字典\n",
    "- `key` `value` pair\n",
    "- `key` 為 `str`\n",
    "- `value` 為任意的 object"
   ]
  },
  {
   "cell_type": "code",
   "execution_count": 65,
   "metadata": {
    "slideshow": {
     "slide_type": "subslide"
    }
   },
   "outputs": [
    {
     "name": "stdout",
     "output_type": "stream",
     "text": [
      "{'name': 'hank', 'sid': 'B10530000', 'age': 18, 'is_friendly': True}\n",
      "{'name': 'hank', 'sid': 'B10530000', 'age': 19, 'is_friendly': True}\n",
      "{'name': 'hank', 'sid': 'B10530000', 'age': 19, 'is_friendly': True, 'gender': 'male'}\n",
      "{'name': 'hank', 'sid': 'B10530000', 'age': 19, 'is_friendly': True, 'gender': 'male', 'phone': 'iPhone 6s'}\n"
     ]
    }
   ],
   "source": [
    "dic = {\n",
    "    'name':'hank',\n",
    "    'sid':'B10530000',\n",
    "    'age':18,\n",
    "    'is_friendly': True\n",
    "}\n",
    "\n",
    "print(dic)\n",
    "\n",
    "dic['age'] = 19\n",
    "print(dic)\n",
    "\n",
    "dic['gender'] = 'male'\n",
    "print(dic)\n",
    "\n",
    "dic['phone'] = 'iPhone 6s'\n",
    "print(dic)\n"
   ]
  },
  {
   "cell_type": "markdown",
   "metadata": {
    "slideshow": {
     "slide_type": "subslide"
    }
   },
   "source": [
    "## dict method\n",
    "\n",
    "### `dic[x]` \n",
    "- 取出 key 為 x 的那一項，，若不存在會出現 error\n",
    "\n",
    "### `dic.get(x)` \n",
    "- 取出 key 為 x 的那一項，若不存在會回傳 None"
   ]
  },
  {
   "cell_type": "code",
   "execution_count": 76,
   "metadata": {
    "slideshow": {
     "slide_type": "subslide"
    }
   },
   "outputs": [
    {
     "name": "stdout",
     "output_type": "stream",
     "text": [
      "hank\n",
      "18\n",
      "None\n"
     ]
    },
    {
     "ename": "KeyError",
     "evalue": "'address'",
     "output_type": "error",
     "traceback": [
      "\u001b[0;31m---------------------------------------------------------------------------\u001b[0m",
      "\u001b[0;31mKeyError\u001b[0m                                  Traceback (most recent call last)",
      "\u001b[0;32m<ipython-input-76-36ab43f60ae9>\u001b[0m in \u001b[0;36m<module>\u001b[0;34m()\u001b[0m\n\u001b[1;32m     10\u001b[0m \u001b[0;34m\u001b[0m\u001b[0m\n\u001b[1;32m     11\u001b[0m \u001b[0mprint\u001b[0m\u001b[0;34m(\u001b[0m\u001b[0mdic\u001b[0m\u001b[0;34m.\u001b[0m\u001b[0mget\u001b[0m\u001b[0;34m(\u001b[0m\u001b[0;34m'address'\u001b[0m\u001b[0;34m)\u001b[0m\u001b[0;34m)\u001b[0m\u001b[0;34m\u001b[0m\u001b[0m\n\u001b[0;32m---> 12\u001b[0;31m \u001b[0mprint\u001b[0m\u001b[0;34m(\u001b[0m\u001b[0mdic\u001b[0m\u001b[0;34m[\u001b[0m\u001b[0;34m'address'\u001b[0m\u001b[0;34m]\u001b[0m\u001b[0;34m)\u001b[0m \u001b[0;31m# key error!\u001b[0m\u001b[0;34m\u001b[0m\u001b[0m\n\u001b[0m",
      "\u001b[0;31mKeyError\u001b[0m: 'address'"
     ]
    }
   ],
   "source": [
    "dic = {\n",
    "    'name':'hank',\n",
    "    'sid':'B10530000',\n",
    "    'age':18,\n",
    "    'is_friendly': True\n",
    "}\n",
    "\n",
    "print(dic['name'])\n",
    "print(dic.get('age'))\n",
    "\n",
    "print(dic.get('address'))\n",
    "print(dic['address']) # key error!"
   ]
  },
  {
   "cell_type": "markdown",
   "metadata": {
    "slideshow": {
     "slide_type": "subslide"
    }
   },
   "source": [
    "# 練習：fix bug 肥胖問題\n",
    "\n",
    "### 幫 Hank 算一下 BMI 吧"
   ]
  },
  {
   "cell_type": "code",
   "execution_count": 91,
   "metadata": {},
   "outputs": [
    {
     "ename": "SyntaxError",
     "evalue": "invalid syntax (<ipython-input-91-ca68565077e4>, line 5)",
     "output_type": "error",
     "traceback": [
      "\u001b[0;36m  File \u001b[0;32m\"<ipython-input-91-ca68565077e4>\"\u001b[0;36m, line \u001b[0;32m5\u001b[0m\n\u001b[0;31m    gender: 'male'\u001b[0m\n\u001b[0m         ^\u001b[0m\n\u001b[0;31mSyntaxError\u001b[0m\u001b[0;31m:\u001b[0m invalid syntax\n"
     ]
    }
   ],
   "source": [
    "body = {\n",
    "    'height': 180,\n",
    "    'weight': 70,\n",
    "    'age': 37\n",
    "    gender: 'male'\n",
    "}\n",
    "\n",
    "# do yourself"
   ]
  }
 ],
 "metadata": {
  "celltoolbar": "Slideshow",
  "kernelspec": {
   "display_name": "Python 3",
   "language": "python",
   "name": "python3"
  },
  "language_info": {
   "codemirror_mode": {
    "name": "ipython",
    "version": 3
   },
   "file_extension": ".py",
   "mimetype": "text/x-python",
   "name": "python",
   "nbconvert_exporter": "python",
   "pygments_lexer": "ipython3",
   "version": "3.6.5"
  }
 },
 "nbformat": 4,
 "nbformat_minor": 2
}
