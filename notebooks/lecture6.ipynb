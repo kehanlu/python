{
 "cells": [
  {
   "cell_type": "markdown",
   "metadata": {
    "slideshow": {
     "slide_type": "slide"
    }
   },
   "source": [
    "# 實際的例子 -- 爬蟲\n",
    "\n",
    "`hanklu`  `臺科大程式設計社`"
   ]
  },
  {
   "cell_type": "markdown",
   "metadata": {
    "slideshow": {
     "slide_type": "slide"
    }
   },
   "source": [
    "## 快速複習\n",
    "\n",
    "我們前幾週的課程裡面介紹了，並寫了一些不太有趣的練習題\n",
    "\n",
    "- variable and its type\n",
    "- if/else\n",
    "- loop\n",
    "    - while\n",
    "    - for\n",
    "- define function\n",
    "- import"
   ]
  },
  {
   "cell_type": "markdown",
   "metadata": {
    "slideshow": {
     "slide_type": "subslide"
    }
   },
   "source": [
    "`int`, `float`, `str`, `list`, `dict`\n",
    "![](https://i.imgur.com/FstpeaU.png)"
   ]
  },
  {
   "cell_type": "markdown",
   "metadata": {
    "slideshow": {
     "slide_type": "subslide"
    }
   },
   "source": [
    "## `if statement`\n",
    "\n",
    "- `if` （如果）：第一個條件\n",
    "- `elif` （否則如果）：其他條件，可以有 0~多個\n",
    "- `else` （否則）：沒有符合前述 condition 的其他狀況，可以不使用\n",
    "- 每一組只會有一個（或沒有）條件成立\n",
    "- 記得在屁股加上 `:` (冒號)\n",
    "- 需要以一個縮排`indent`（實際上為四個空白），做「排版」\n",
    "\n",
    "```python\n",
    "if <condition>:\n",
    "    <statement>\n",
    "    <statement>\n",
    "elif <condition>:\n",
    "    <statement>\n",
    "else:\n",
    "    <statement>\n",
    "```"
   ]
  },
  {
   "cell_type": "markdown",
   "metadata": {
    "slideshow": {
     "slide_type": "subslide"
    }
   },
   "source": [
    "## While Loop\n",
    "\n",
    "- 當條件成立，就執行 block 裡面的程式碼，之後再回到while開頭再問一次條件是否成立\n",
    "- 條件不成立，就不執行 block 裡面的程式碼\n",
    "- while 的屁股要加上 `:` （冒號）\n",
    "- 記得用縮排 `indent` 當作 block\n",
    "\n",
    "```python\n",
    "while <condition>:\n",
    "    <statement>\n",
    "    <statement>\n",
    "```"
   ]
  },
  {
   "cell_type": "markdown",
   "metadata": {
    "slideshow": {
     "slide_type": "subslide"
    }
   },
   "source": [
    "# for loop\n",
    "\n",
    "- 遍歷整個 sequence ，每次 loop 拿出一個東西\n",
    "- 也一樣要用 `indent` 排版出 `block`\n",
    "- 後面要加上 `:`(冒號)\n",
    "- 和 `while` 一樣可以 `break` 和 `continue`\n",
    "\n",
    "```python\n",
    "for <variable> in <sequence>:\n",
    "    <statement>\n",
    "    <statement>\n",
    "```"
   ]
  },
  {
   "cell_type": "markdown",
   "metadata": {
    "slideshow": {
     "slide_type": "subslide"
    }
   },
   "source": [
    "## define function\n",
    "- `def` (define) 開頭\n",
    "- `function_name` ：自己命名的，和之前變數一樣，最好是個有意義的字\n",
    "- `()` 括號中放入參數，未來使用的時候傳入的值，就是一種變數啦\n",
    "- `return` 可有可無，但 function 只要遇到 `return` 就會結束，預設是 return `None`\n",
    "- call function 的時候的寫法就是 `function_name(x,y)`\n",
    "- 一樣要使用 `indent` 來排版 code block\n",
    "\n",
    "```python\n",
    "def function_name(x,y):\n",
    "    <statement>\n",
    "    <statement>\n",
    "    return <something>\n",
    "\n",
    "function_name(1,2)\n",
    "```"
   ]
  },
  {
   "cell_type": "markdown",
   "metadata": {
    "slideshow": {
     "slide_type": "slide"
    }
   },
   "source": [
    "## Class 類別\n",
    "\n",
    "(補充一個不需要實際寫，但要會用的概念)"
   ]
  },
  {
   "cell_type": "markdown",
   "metadata": {
    "slideshow": {
     "slide_type": "subslide"
    }
   },
   "source": [
    "我們之前學過的 `int`, `float`, `str`, `list`, `dict` 是 python 內建的型別\n",
    "\n",
    "當然也可以自己設計其他東西"
   ]
  },
  {
   "cell_type": "markdown",
   "metadata": {
    "slideshow": {
     "slide_type": "-"
    }
   },
   "source": [
    "<img src=\"https://i.imgur.com/bllLm8h.png\" width=\"800px\">"
   ]
  },
  {
   "cell_type": "code",
   "execution_count": 4,
   "metadata": {
    "slideshow": {
     "slide_type": "subslide"
    }
   },
   "outputs": [
    {
     "name": "stdout",
     "output_type": "stream",
     "text": [
      "<class 'int'>\n",
      "<class 'str'>\n"
     ]
    }
   ],
   "source": [
    "x = 1\n",
    "print(type(x))\n",
    "\n",
    "y = \"hello world\"\n",
    "print(type(y))"
   ]
  },
  {
   "cell_type": "code",
   "execution_count": 11,
   "metadata": {
    "slideshow": {
     "slide_type": "-"
    }
   },
   "outputs": [
    {
     "name": "stdout",
     "output_type": "stream",
     "text": [
      "2019-04-08 21:02:59.920589\n",
      "<class 'datetime.datetime'>\n"
     ]
    }
   ],
   "source": [
    "import datetime\n",
    "today = datetime.datetime.today()\n",
    "print(today)\n",
    "print(type(today)) # today 是一個 datetime 的 object"
   ]
  },
  {
   "cell_type": "code",
   "execution_count": 26,
   "metadata": {
    "slideshow": {
     "slide_type": "subslide"
    }
   },
   "outputs": [
    {
     "name": "stdout",
     "output_type": "stream",
     "text": [
      "hi~ world\n",
      "['hello', 'world']\n"
     ]
    }
   ],
   "source": [
    "x = \"hello world\"\n",
    "print(x.replace(\"hello\", \"hi~\"))\n",
    "print(x.split())"
   ]
  },
  {
   "cell_type": "code",
   "execution_count": 27,
   "metadata": {
    "slideshow": {
     "slide_type": "-"
    }
   },
   "outputs": [
    {
     "name": "stdout",
     "output_type": "stream",
     "text": [
      "<class 'datetime.datetime'>\n",
      "2019 / 04 / 08\n",
      "8\n"
     ]
    }
   ],
   "source": [
    "import datetime\n",
    "today = datetime.datetime.today()\n",
    "\n",
    "print(type(today))\n",
    "print(today.strftime(\"%Y / %m / %d\")) # method\n",
    "print(today.day) # attribute"
   ]
  },
  {
   "cell_type": "markdown",
   "metadata": {
    "slideshow": {
     "slide_type": "slide"
    }
   },
   "source": [
    "## 網頁爬蟲\n",
    "\n",
    "一言以敝之：用 python 把從網路上抓取資料的動作自動化。\n",
    "\n",
    "- 資料是一種資產\n",
    "- 搜集資料很麻煩，只有少部分的資料被打包好了（政府 PM2.5 歷史資料...）"
   ]
  },
  {
   "cell_type": "markdown",
   "metadata": {
    "slideshow": {
     "slide_type": "subslide"
    }
   },
   "source": [
    "一個一般的網頁，裡面包含了我想要取得的資料，但是沒人幫我整理好QQ\n",
    "\n",
    "![](https://i.imgur.com/Zq92L0t.png)"
   ]
  },
  {
   "cell_type": "markdown",
   "metadata": {
    "slideshow": {
     "slide_type": "subslide"
    }
   },
   "source": [
    "\n",
    "[pokemon](https://bulbapedia.bulbagarden.net/wiki/List_of_Pok%C3%A9mon_by_base_stats_(Generation_VII-present))\n",
    "![](https://i.imgur.com/oc0SEkG.png)"
   ]
  },
  {
   "cell_type": "markdown",
   "metadata": {
    "slideshow": {
     "slide_type": "slide"
    }
   },
   "source": [
    "## 基礎觀念\n",
    "\n",
    "簡單的爬蟲程式分成兩個部分\n",
    "\n",
    "- 抓取網頁內容\n",
    "- 分析"
   ]
  },
  {
   "cell_type": "markdown",
   "metadata": {
    "slideshow": {
     "slide_type": "subslide"
    }
   },
   "source": [
    "## 抓取網頁內容\n",
    "\n",
    "`F12` or `⌘+⌥+i` 可以在 chorme 上看到網頁原始碼\n",
    "\n",
    "![](https://i.imgur.com/AkgHXm0.png)"
   ]
  },
  {
   "cell_type": "markdown",
   "metadata": {
    "slideshow": {
     "slide_type": "subslide"
    }
   },
   "source": [
    "![](https://i.imgur.com/0omTufK.png)"
   ]
  },
  {
   "cell_type": "markdown",
   "metadata": {
    "slideshow": {
     "slide_type": "subslide"
    }
   },
   "source": [
    "## 先安裝一下需要的套件："
   ]
  },
  {
   "cell_type": "code",
   "execution_count": 1,
   "metadata": {
    "slideshow": {
     "slide_type": "-"
    }
   },
   "outputs": [
    {
     "name": "stdout",
     "output_type": "stream",
     "text": [
      "Requirement already satisfied: requests in /Users/hank/.virtualenvs/DL/lib/python3.6/site-packages (2.18.4)\n",
      "Requirement already satisfied: idna<2.7,>=2.5 in /Users/hank/.virtualenvs/DL/lib/python3.6/site-packages (from requests) (2.6)\n",
      "Requirement already satisfied: chardet<3.1.0,>=3.0.2 in /Users/hank/.virtualenvs/DL/lib/python3.6/site-packages (from requests) (3.0.4)\n",
      "Requirement already satisfied: urllib3<1.23,>=1.21.1 in /Users/hank/.virtualenvs/DL/lib/python3.6/site-packages (from requests) (1.22)\n",
      "Requirement already satisfied: certifi>=2017.4.17 in /Users/hank/.virtualenvs/DL/lib/python3.6/site-packages (from requests) (2018.4.16)\n",
      "\u001b[33mYou are using pip version 10.0.0, however version 19.0.3 is available.\n",
      "You should consider upgrading via the 'pip install --upgrade pip' command.\u001b[0m\n",
      "Requirement already satisfied: bs4 in /Users/hank/.virtualenvs/DL/lib/python3.6/site-packages (0.0.1)\n",
      "Requirement already satisfied: beautifulsoup4 in /Users/hank/.virtualenvs/DL/lib/python3.6/site-packages (from bs4) (4.6.0)\n",
      "\u001b[33mYou are using pip version 10.0.0, however version 19.0.3 is available.\n",
      "You should consider upgrading via the 'pip install --upgrade pip' command.\u001b[0m\n"
     ]
    }
   ],
   "source": [
    "# install package\n",
    "!pip install requests\n",
    "!pip install bs4\n",
    "\n",
    "# or run command in terminal"
   ]
  },
  {
   "cell_type": "code",
   "execution_count": 35,
   "metadata": {
    "slideshow": {
     "slide_type": "subslide"
    }
   },
   "outputs": [
    {
     "name": "stdout",
     "output_type": "stream",
     "text": [
      "<Response [200]>\n"
     ]
    }
   ],
   "source": [
    "import requests\n",
    "\n",
    "resp = requests.get(\"https://hanklu.tw/python/example\")\n",
    "print(resp)"
   ]
  },
  {
   "cell_type": "code",
   "execution_count": 36,
   "metadata": {
    "slideshow": {
     "slide_type": "-"
    }
   },
   "outputs": [
    {
     "name": "stdout",
     "output_type": "stream",
     "text": [
      "<h2> hello world </h2>\n",
      "<p> here is some HTML code</p>\n",
      "<div>\n",
      "  <h3> have a nice day </h3>\n",
      "</div>\n"
     ]
    }
   ],
   "source": [
    "print(resp.text)"
   ]
  },
  {
   "cell_type": "markdown",
   "metadata": {
    "slideshow": {
     "slide_type": "subslide"
    }
   },
   "source": [
    "## 分析網頁內容(萃取)\n",
    "\n",
    "使用 BeautifulSoup"
   ]
  },
  {
   "cell_type": "markdown",
   "metadata": {
    "slideshow": {
     "slide_type": "subslide"
    }
   },
   "source": [
    "## 補充資料：\n",
    "[HTML x CSS 超☆入門](https://docs.google.com/presentation/d/1Yn1rXAKOwj_VUDmnL8Mvhnj6hU0KCSoZW-D_aLHYizA)\n",
    "\n",
    "[HTML Tree](https://docs.google.com/presentation/d/1OJL6nstGJuCHPw0fIED3y-biRu63qt_6qcSpXYjK3ys)"
   ]
  },
  {
   "cell_type": "markdown",
   "metadata": {
    "slideshow": {
     "slide_type": "subslide"
    }
   },
   "source": [
    "<img src=\"https://i.imgur.com/WuU4SCk.png\" width=\"400px\">"
   ]
  },
  {
   "cell_type": "code",
   "execution_count": 38,
   "metadata": {
    "scrolled": true,
    "slideshow": {
     "slide_type": "-"
    }
   },
   "outputs": [
    {
     "name": "stdout",
     "output_type": "stream",
     "text": [
      "\n",
      "<!DOCTYPE html>\n",
      "<html lang=\"zh-tw\">\n",
      "\n",
      "<head>\n",
      "  <meta charset=\"UTF-8\">\n",
      "  <meta name=\"viewport\" content=\"width=device-width, initial-scale=1.0\">\n",
      "  <title>Coodle</title>\n",
      "  <link rel=\"stylesheet\" href=\"https://cdnjs.cloudflare.com/ajax/libs/bulma/0.7.2/css/bulma.min.css\">\n",
      "  <script defer src=\"https://use.fontawesome.com/releases/v5.3.1/js/all.js\"></script>\n",
      "  <link rel=\"stylesheet\" href=\"//cdnjs.cloudflare.com/ajax/libs/highlight.js/9.15.6/styles/tomorrow.min.css\">\n",
      "  <script src=\"//cdnjs.cloudflare.com/ajax/libs/highlight.js/9.15.6/highlight.min.js\"></script>\n",
      "  <link rel=\"stylesheet\" href=\"/static/css/style.css\">\n",
      "  \n",
      "  \n",
      "</head>\n",
      "\n",
      "\n",
      "<body>\n",
      "  \n",
      "<nav class=\"navbar\" role=\"navigation\" aria-label=\"main navigation\">\n",
      "  <div class=\"container\">\n",
      "    <div class=\"navbar-brand\">\n",
      "      <a class=\"navbar-item\" href=\"/\">\n",
      "        Coodle\n",
      "      </a>\n",
      "\n",
      "      <a role=\"button\" class=\"navbar-burger burger\" aria-label=\"menu\" aria-expanded=\"false\" data-target=\"navbarBasicExample\">\n",
      "        <span aria-hidden=\"true\"></span>\n",
      "        <span aria-hidden=\"true\"></span>\n",
      "        <span aria-hidden=\"true\"></span>\n",
      "      </a>\n",
      "    </div>\n",
      "\n",
      "    <div id=\"navbarBasicExample\" class=\"navbar-menu\">\n",
      "\n",
      "      <div class=\"navbar-start\">\n",
      "        <a class=\"navbar-item\" href=\"/problem\">\n",
      "          練習題\n",
      "        </a>\n",
      "        <a class=\"navbar-item\" href=\"/discuss\">\n",
      "          討論區\n",
      "        </a>\n",
      "        \n",
      "\n",
      "      </div>\n",
      "\n",
      "      <div class=\"navbar-end\">\n",
      "\n",
      "\n",
      "\n",
      "\n",
      "        <div class=\"navbar-item\">\n",
      "          \n",
      "          <a class=\"bd-tw-button button\" href=\"/accounts/login\">\n",
      "            登入\n",
      "          </a>\n",
      "          \n",
      "\n",
      "          <!-- <div class=\"navbar-item\"> -->\n",
      "          <a class=\"bd-tw-button button\" href=\"https://github.com/kehanlu/python\">\n",
      "            <span class=\"icon\">\n",
      "              <i class=\"fab fa-github\"></i>\n",
      "            </span>\n",
      "            <span>\n",
      "              課程資訊\n",
      "            </span>\n",
      "          </a>\n",
      "          <!-- </div> -->\n",
      "\n",
      "        </div>\n",
      "      </div>\n",
      "    </div>\n",
      "  </div>\n",
      "</nav>\n",
      "\n",
      "  \n",
      "\n",
      "  <div class=\"container\">\n",
      "    \n",
      "\n",
      "\n",
      "\n",
      "<table class=\"table is-fullwidth\">\n",
      "  <thead>\n",
      "    <th>標題</th>\n",
      "    <th>描述</th>\n",
      "    <th>出題者</th>\n",
      "    <th>最後修改</th>\n",
      "  </thead>\n",
      "  <tbody>\n",
      "    \n",
      "    <tr>\n",
      "      <td><a href=\"/problem/16\">L5 平均</a></td>\n",
      "      <td>mean</td>\n",
      "      <td>匿名小飛象章魚</td>\n",
      "      <td>March 26, 2019, 7:48 a.m.</td>\n",
      "    </tr>\n",
      "    \n",
      "    <tr>\n",
      "      <td><a href=\"/problem/15\">L5 扇形面積</a></td>\n",
      "      <td>算一下面積</td>\n",
      "      <td>匿名小飛象章魚</td>\n",
      "      <td>March 26, 2019, 7:47 a.m.</td>\n",
      "    </tr>\n",
      "    \n",
      "    <tr>\n",
      "      <td><a href=\"/problem/14\">L5 快放暑假了！</a></td>\n",
      "      <td>還有多久放暑假呢</td>\n",
      "      <td>匿名小飛象章魚</td>\n",
      "      <td>March 26, 2019, 7:46 a.m.</td>\n",
      "    </tr>\n",
      "    \n",
      "    <tr>\n",
      "      <td><a href=\"/problem/13\">L4 有趣的質數</a></td>\n",
      "      <td>找一下質數</td>\n",
      "      <td>匿名小飛象章魚</td>\n",
      "      <td>March 19, 2019, 9:20 a.m.</td>\n",
      "    </tr>\n",
      "    \n",
      "    <tr>\n",
      "      <td><a href=\"/problem/12\">L4 阿姆斯壯數</a></td>\n",
      "      <td>Armstrong</td>\n",
      "      <td>匿名小飛象章魚</td>\n",
      "      <td>March 19, 2019, 9:22 a.m.</td>\n",
      "    </tr>\n",
      "    \n",
      "    <tr>\n",
      "      <td><a href=\"/problem/11\">L4 很多信箱</a></td>\n",
      "      <td>處理一下資料吧</td>\n",
      "      <td>匿名小飛象章魚</td>\n",
      "      <td>March 19, 2019, 9:17 a.m.</td>\n",
      "    </tr>\n",
      "    \n",
      "    <tr>\n",
      "      <td><a href=\"/problem/10\">L4 99 乘法表</a></td>\n",
      "      <td>印出一個九九乘法表吧</td>\n",
      "      <td>匿名小飛象章魚</td>\n",
      "      <td>March 19, 2019, 9:15 a.m.</td>\n",
      "    </tr>\n",
      "    \n",
      "    <tr>\n",
      "      <td><a href=\"/problem/9\">L4 fizz buzz</a></td>\n",
      "      <td></td>\n",
      "      <td>匿名小飛象章魚</td>\n",
      "      <td>March 19, 2019, 9:13 a.m.</td>\n",
      "    </tr>\n",
      "    \n",
      "    <tr>\n",
      "      <td><a href=\"/problem/8\">L4 GPA 計算機</a></td>\n",
      "      <td>想快點知道 GPA 是多少呢</td>\n",
      "      <td>匿名小飛象章魚</td>\n",
      "      <td>March 19, 2019, 9:10 a.m.</td>\n",
      "    </tr>\n",
      "    \n",
      "    <tr>\n",
      "      <td><a href=\"/problem/7\">L4 1~10000的和</a></td>\n",
      "      <td>Σ(x=1,10000) x</td>\n",
      "      <td>匿名小飛象章魚</td>\n",
      "      <td>March 19, 2019, 9:09 a.m.</td>\n",
      "    </tr>\n",
      "    \n",
      "    <tr>\n",
      "      <td><a href=\"/problem/6\">L4 成績等第制</a></td>\n",
      "      <td>將輸入的成績轉換成等第制</td>\n",
      "      <td>匿名小飛象章魚</td>\n",
      "      <td>March 19, 2019, 12:14 p.m.</td>\n",
      "    </tr>\n",
      "    \n",
      "    <tr>\n",
      "      <td><a href=\"/problem/5\">L3 閏年</a></td>\n",
      "      <td>判斷是不是閏年</td>\n",
      "      <td>匿名小飛象章魚</td>\n",
      "      <td>March 19, 2019, 9:07 a.m.</td>\n",
      "    </tr>\n",
      "    \n",
      "    <tr>\n",
      "      <td><a href=\"/problem/4\">L3 期末考</a></td>\n",
      "      <td>為了拯救期末考，你寫了一支程式</td>\n",
      "      <td>匿名小飛象章魚</td>\n",
      "      <td>March 19, 2019, 9:07 a.m.</td>\n",
      "    </tr>\n",
      "    \n",
      "    <tr>\n",
      "      <td><a href=\"/problem/3\">L3 剪刀石頭布</a></td>\n",
      "      <td>和電腦玩剪刀石頭布吧</td>\n",
      "      <td>匿名小飛象章魚</td>\n",
      "      <td>March 19, 2019, 9:07 a.m.</td>\n",
      "    </tr>\n",
      "    \n",
      "    <tr>\n",
      "      <td><a href=\"/problem/2\">L3 找大的2</a></td>\n",
      "      <td>輸入三個數字，輸出最大的那個數字</td>\n",
      "      <td>匿名小飛象章魚</td>\n",
      "      <td>March 19, 2019, 9:07 a.m.</td>\n",
      "    </tr>\n",
      "    \n",
      "    <tr>\n",
      "      <td><a href=\"/problem/1\">HW1 奇數偶數</a></td>\n",
      "      <td>if else 練習題</td>\n",
      "      <td>匿名小飛象章魚</td>\n",
      "      <td>March 13, 2019, 7:53 a.m.</td>\n",
      "    </tr>\n",
      "    \n",
      "  </tbody>\n",
      "\n",
      "</table>\n",
      "\n",
      "\n",
      "  </div>\n",
      "\n",
      "  \n",
      "\n",
      "</body>\n",
      "\n",
      "\n",
      "\n",
      "\n",
      "<script>\n",
      "  document.addEventListener('DOMContentLoaded', function () {\n",
      "    var $navbarBurgers = Array.prototype.slice.call(document.querySelectorAll('.navbar-burger'), 0);\n",
      "    if ($navbarBurgers.length > 0) {\n",
      "      $navbarBurgers.forEach(function ($el) {\n",
      "        $el.addEventListener('click', function () {\n",
      "          var target = $el.dataset.target;\n",
      "          var $target = document.getElementById(target);\n",
      "          $el.classList.toggle('is-active');\n",
      "          $target.classList.toggle('is-active');\n",
      "        });\n",
      "      });\n",
      "    }\n",
      "  });\n",
      "</script>\n",
      "\n",
      "</html>\n"
     ]
    }
   ],
   "source": [
    "import requests\n",
    "from bs4 import BeautifulSoup\n",
    "\n",
    "# 抓取網頁內容\n",
    "resp = requests.get(\"https://coodle.hanklu.tw/problem/\")\n",
    "html = resp.text\n",
    "print(html)"
   ]
  },
  {
   "cell_type": "code",
   "execution_count": 40,
   "metadata": {
    "slideshow": {
     "slide_type": "subslide"
    }
   },
   "outputs": [
    {
     "name": "stdout",
     "output_type": "stream",
     "text": [
      "<class 'bs4.BeautifulSoup'>\n"
     ]
    }
   ],
   "source": [
    "bs = BeautifulSoup(html,'html.parser')\n",
    "print(type(bs))"
   ]
  },
  {
   "cell_type": "code",
   "execution_count": 49,
   "metadata": {
    "slideshow": {
     "slide_type": "subslide"
    }
   },
   "outputs": [
    {
     "name": "stdout",
     "output_type": "stream",
     "text": [
      "<title>Coodle</title>\n",
      "Coodle\n"
     ]
    }
   ],
   "source": [
    "print(bs.title) # tag\n",
    "print(bs.title.text) # tag中的純文字"
   ]
  },
  {
   "cell_type": "code",
   "execution_count": 50,
   "metadata": {
    "scrolled": true,
    "slideshow": {
     "slide_type": "subslide"
    }
   },
   "outputs": [
    {
     "name": "stdout",
     "output_type": "stream",
     "text": [
      "<table class=\"table is-fullwidth\">\n",
      "<thead>\n",
      "<th>標題</th>\n",
      "<th>描述</th>\n",
      "<th>出題者</th>\n",
      "<th>最後修改</th>\n",
      "</thead>\n",
      "<tbody>\n",
      "<tr>\n",
      "<td><a href=\"/problem/16\">L5 平均</a></td>\n",
      "<td>mean</td>\n",
      "<td>匿名小飛象章魚</td>\n",
      "<td>March 26, 2019, 7:48 a.m.</td>\n",
      "</tr>\n",
      "<tr>\n",
      "<td><a href=\"/problem/15\">L5 扇形面積</a></td>\n",
      "<td>算一下面積</td>\n",
      "<td>匿名小飛象章魚</td>\n",
      "<td>March 26, 2019, 7:47 a.m.</td>\n",
      "</tr>\n",
      "<tr>\n",
      "<td><a href=\"/problem/14\">L5 快放暑假了！</a></td>\n",
      "<td>還有多久放暑假呢</td>\n",
      "<td>匿名小飛象章魚</td>\n",
      "<td>March 26, 2019, 7:46 a.m.</td>\n",
      "</tr>\n",
      "<tr>\n",
      "<td><a href=\"/problem/13\">L4 有趣的質數</a></td>\n",
      "<td>找一下質數</td>\n",
      "<td>匿名小飛象章魚</td>\n",
      "<td>March 19, 2019, 9:20 a.m.</td>\n",
      "</tr>\n",
      "<tr>\n",
      "<td><a href=\"/problem/12\">L4 阿姆斯壯數</a></td>\n",
      "<td>Armstrong</td>\n",
      "<td>匿名小飛象章魚</td>\n",
      "<td>March 19, 2019, 9:22 a.m.</td>\n",
      "</tr>\n",
      "<tr>\n",
      "<td><a href=\"/problem/11\">L4 很多信箱</a></td>\n",
      "<td>處理一下資料吧</td>\n",
      "<td>匿名小飛象章魚</td>\n",
      "<td>March 19, 2019, 9:17 a.m.</td>\n",
      "</tr>\n",
      "<tr>\n",
      "<td><a href=\"/problem/10\">L4 99 乘法表</a></td>\n",
      "<td>印出一個九九乘法表吧</td>\n",
      "<td>匿名小飛象章魚</td>\n",
      "<td>March 19, 2019, 9:15 a.m.</td>\n",
      "</tr>\n",
      "<tr>\n",
      "<td><a href=\"/problem/9\">L4 fizz buzz</a></td>\n",
      "<td></td>\n",
      "<td>匿名小飛象章魚</td>\n",
      "<td>March 19, 2019, 9:13 a.m.</td>\n",
      "</tr>\n",
      "<tr>\n",
      "<td><a href=\"/problem/8\">L4 GPA 計算機</a></td>\n",
      "<td>想快點知道 GPA 是多少呢</td>\n",
      "<td>匿名小飛象章魚</td>\n",
      "<td>March 19, 2019, 9:10 a.m.</td>\n",
      "</tr>\n",
      "<tr>\n",
      "<td><a href=\"/problem/7\">L4 1~10000的和</a></td>\n",
      "<td>Σ(x=1,10000) x</td>\n",
      "<td>匿名小飛象章魚</td>\n",
      "<td>March 19, 2019, 9:09 a.m.</td>\n",
      "</tr>\n",
      "<tr>\n",
      "<td><a href=\"/problem/6\">L4 成績等第制</a></td>\n",
      "<td>將輸入的成績轉換成等第制</td>\n",
      "<td>匿名小飛象章魚</td>\n",
      "<td>March 19, 2019, 12:14 p.m.</td>\n",
      "</tr>\n",
      "<tr>\n",
      "<td><a href=\"/problem/5\">L3 閏年</a></td>\n",
      "<td>判斷是不是閏年</td>\n",
      "<td>匿名小飛象章魚</td>\n",
      "<td>March 19, 2019, 9:07 a.m.</td>\n",
      "</tr>\n",
      "<tr>\n",
      "<td><a href=\"/problem/4\">L3 期末考</a></td>\n",
      "<td>為了拯救期末考，你寫了一支程式</td>\n",
      "<td>匿名小飛象章魚</td>\n",
      "<td>March 19, 2019, 9:07 a.m.</td>\n",
      "</tr>\n",
      "<tr>\n",
      "<td><a href=\"/problem/3\">L3 剪刀石頭布</a></td>\n",
      "<td>和電腦玩剪刀石頭布吧</td>\n",
      "<td>匿名小飛象章魚</td>\n",
      "<td>March 19, 2019, 9:07 a.m.</td>\n",
      "</tr>\n",
      "<tr>\n",
      "<td><a href=\"/problem/2\">L3 找大的2</a></td>\n",
      "<td>輸入三個數字，輸出最大的那個數字</td>\n",
      "<td>匿名小飛象章魚</td>\n",
      "<td>March 19, 2019, 9:07 a.m.</td>\n",
      "</tr>\n",
      "<tr>\n",
      "<td><a href=\"/problem/1\">HW1 奇數偶數</a></td>\n",
      "<td>if else 練習題</td>\n",
      "<td>匿名小飛象章魚</td>\n",
      "<td>March 13, 2019, 7:53 a.m.</td>\n",
      "</tr>\n",
      "</tbody>\n",
      "</table>\n"
     ]
    }
   ],
   "source": [
    "print(bs.table)"
   ]
  },
  {
   "cell_type": "markdown",
   "metadata": {
    "slideshow": {
     "slide_type": "subslide"
    }
   },
   "source": [
    "### `find()` `find_all()`"
   ]
  },
  {
   "cell_type": "code",
   "execution_count": 46,
   "metadata": {},
   "outputs": [
    {
     "data": {
      "text/plain": [
       "<a class=\"navbar-item\" href=\"/\">\n",
       "        Coodle\n",
       "      </a>"
      ]
     },
     "execution_count": 46,
     "metadata": {},
     "output_type": "execute_result"
    }
   ],
   "source": [
    "print(bs.find(\"a\"))"
   ]
  },
  {
   "cell_type": "code",
   "execution_count": 47,
   "metadata": {
    "scrolled": true,
    "slideshow": {
     "slide_type": "subslide"
    }
   },
   "outputs": [
    {
     "name": "stdout",
     "output_type": "stream",
     "text": [
      "[<a class=\"navbar-item\" href=\"/\">\n",
      "        Coodle\n",
      "      </a>, <a aria-expanded=\"false\" aria-label=\"menu\" class=\"navbar-burger burger\" data-target=\"navbarBasicExample\" role=\"button\">\n",
      "<span aria-hidden=\"true\"></span>\n",
      "<span aria-hidden=\"true\"></span>\n",
      "<span aria-hidden=\"true\"></span>\n",
      "</a>, <a class=\"navbar-item\" href=\"/problem\">\n",
      "          練習題\n",
      "        </a>, <a class=\"navbar-item\" href=\"/discuss\">\n",
      "          討論區\n",
      "        </a>, <a class=\"bd-tw-button button\" href=\"/accounts/login\">\n",
      "            登入\n",
      "          </a>, <a class=\"bd-tw-button button\" href=\"https://github.com/kehanlu/python\">\n",
      "<span class=\"icon\">\n",
      "<i class=\"fab fa-github\"></i>\n",
      "</span>\n",
      "<span>\n",
      "              課程資訊\n",
      "            </span>\n",
      "</a>, <a href=\"/problem/16\">L5 平均</a>, <a href=\"/problem/15\">L5 扇形面積</a>, <a href=\"/problem/14\">L5 快放暑假了！</a>, <a href=\"/problem/13\">L4 有趣的質數</a>, <a href=\"/problem/12\">L4 阿姆斯壯數</a>, <a href=\"/problem/11\">L4 很多信箱</a>, <a href=\"/problem/10\">L4 99 乘法表</a>, <a href=\"/problem/9\">L4 fizz buzz</a>, <a href=\"/problem/8\">L4 GPA 計算機</a>, <a href=\"/problem/7\">L4 1~10000的和</a>, <a href=\"/problem/6\">L4 成績等第制</a>, <a href=\"/problem/5\">L3 閏年</a>, <a href=\"/problem/4\">L3 期末考</a>, <a href=\"/problem/3\">L3 剪刀石頭布</a>, <a href=\"/problem/2\">L3 找大的2</a>, <a href=\"/problem/1\">HW1 奇數偶數</a>]\n"
     ]
    }
   ],
   "source": [
    "print(bs.find_all(\"a\"))"
   ]
  },
  {
   "cell_type": "markdown",
   "metadata": {
    "slideshow": {
     "slide_type": "subslide"
    }
   },
   "source": [
    "### 取出每個問題的標題"
   ]
  },
  {
   "cell_type": "code",
   "execution_count": 52,
   "metadata": {},
   "outputs": [
    {
     "name": "stdout",
     "output_type": "stream",
     "text": [
      "[<a href=\"/problem/16\">L5 平均</a>, <a href=\"/problem/15\">L5 扇形面積</a>, <a href=\"/problem/14\">L5 快放暑假了！</a>, <a href=\"/problem/13\">L4 有趣的質數</a>, <a href=\"/problem/12\">L4 阿姆斯壯數</a>, <a href=\"/problem/11\">L4 很多信箱</a>, <a href=\"/problem/10\">L4 99 乘法表</a>, <a href=\"/problem/9\">L4 fizz buzz</a>, <a href=\"/problem/8\">L4 GPA 計算機</a>, <a href=\"/problem/7\">L4 1~10000的和</a>, <a href=\"/problem/6\">L4 成績等第制</a>, <a href=\"/problem/5\">L3 閏年</a>, <a href=\"/problem/4\">L3 期末考</a>, <a href=\"/problem/3\">L3 剪刀石頭布</a>, <a href=\"/problem/2\">L3 找大的2</a>, <a href=\"/problem/1\">HW1 奇數偶數</a>]\n"
     ]
    }
   ],
   "source": [
    "a_tags = bs.table.find_all(\"a\")\n",
    "print(a_tags)"
   ]
  },
  {
   "cell_type": "code",
   "execution_count": 53,
   "metadata": {
    "slideshow": {
     "slide_type": "subslide"
    }
   },
   "outputs": [
    {
     "name": "stdout",
     "output_type": "stream",
     "text": [
      "L5 平均\n",
      "L5 扇形面積\n",
      "L5 快放暑假了！\n",
      "L4 有趣的質數\n",
      "L4 阿姆斯壯數\n",
      "L4 很多信箱\n",
      "L4 99 乘法表\n",
      "L4 fizz buzz\n",
      "L4 GPA 計算機\n",
      "L4 1~10000的和\n",
      "L4 成績等第制\n",
      "L3 閏年\n",
      "L3 期末考\n",
      "L3 剪刀石頭布\n",
      "L3 找大的2\n",
      "HW1 奇數偶數\n"
     ]
    }
   ],
   "source": [
    "for a_tag in a_tags:\n",
    "    print(a_tag.text)"
   ]
  },
  {
   "cell_type": "markdown",
   "metadata": {
    "slideshow": {
     "slide_type": "slide"
    }
   },
   "source": [
    "## PTT\n",
    "\n",
    "把 soft job 最新的幾個貼文標題抓出來！"
   ]
  },
  {
   "cell_type": "code",
   "execution_count": 70,
   "metadata": {
    "scrolled": true,
    "slideshow": {
     "slide_type": "subslide"
    }
   },
   "outputs": [
    {
     "data": {
      "text/plain": [
       "[<div class=\"title\">\n",
       " <a href=\"/bbs/Soft_Job/M.1554787792.A.EA4.html\">Re: [討論] 認真問~寫程式的時候吃什麼比較ok?</a>\n",
       " </div>, <div class=\"title\">\n",
       " \t\t\t\n",
       " \t\t\t\t(本文已被刪除) [sandyangel]\n",
       " \t\t\t\n",
       " \t\t\t</div>, <div class=\"title\">\n",
       " <a href=\"/bbs/Soft_Job/M.1554788901.A.D58.html\">[請益] 愛奇藝台北研發中心請教</a>\n",
       " </div>, <div class=\"title\">\n",
       " <a href=\"/bbs/Soft_Job/M.1501827536.A.DF2.html\">[公告] 本板板規  2017/4/10更新</a>\n",
       " </div>, <div class=\"title\">\n",
       " <a href=\"/bbs/Soft_Job/M.1501827692.A.18D.html\">[公告] 徵才不符板規或徵才自刪公司</a>\n",
       " </div>, <div class=\"title\">\n",
       " <a href=\"/bbs/Soft_Job/M.1501847358.A.F41.html\">[情報] 訓練課程與付費APP與網站分享</a>\n",
       " </div>, <div class=\"title\">\n",
       " <a href=\"/bbs/Soft_Job/M.1501847445.A.045.html\">[情報] 社群活動與免費APP與網站分享</a>\n",
       " </div>, <div class=\"title\">\n",
       " <a href=\"/bbs/Soft_Job/M.1498710085.A.78A.html\">[板務] 請板友提供板務建議</a>\n",
       " </div>]"
      ]
     },
     "execution_count": 70,
     "metadata": {},
     "output_type": "execute_result"
    }
   ],
   "source": [
    "import requests\n",
    "from bs4 import BeautifulSoup\n",
    "\n",
    "resp = requests.get(\"https://www.ptt.cc/bbs/Soft_Job/index.html\")\n",
    "bs = BeautifulSoup(resp.text,'html.parser')\n",
    "bs.find_all(\"div\",\"title\")"
   ]
  },
  {
   "cell_type": "code",
   "execution_count": 71,
   "metadata": {
    "slideshow": {
     "slide_type": "subslide"
    }
   },
   "outputs": [
    {
     "name": "stdout",
     "output_type": "stream",
     "text": [
      "Re: [討論] 認真問~寫程式的時候吃什麼比較ok?\n",
      "(本文已被刪除) [sandyangel]\n",
      "[請益] 愛奇藝台北研發中心請教\n",
      "[公告] 本板板規  2017/4/10更新\n",
      "[公告] 徵才不符板規或徵才自刪公司\n",
      "[情報] 訓練課程與付費APP與網站分享\n",
      "[情報] 社群活動與免費APP與網站分享\n",
      "[板務] 請板友提供板務建議\n",
      "['Re: [討論] 認真問~寫程式的時候吃什麼比較ok?', '(本文已被刪除) [sandyangel]', '[請益] 愛奇藝台北研發中心請教', '[公告] 本板板規  2017/4/10更新', '[公告] 徵才不符板規或徵才自刪公司', '[情報] 訓練課程與付費APP與網站分享', '[情報] 社群活動與免費APP與網站分享', '[板務] 請板友提供板務建議']\n"
     ]
    }
   ],
   "source": [
    "posts_title = []\n",
    "for title in bs.find_all(\"div\",\"title\"):\n",
    "    print(title.text.strip())\n",
    "    posts_title.append(title.text.strip())\n",
    "\n",
    "print(posts_title)"
   ]
  },
  {
   "cell_type": "code",
   "execution_count": 61,
   "metadata": {
    "slideshow": {
     "slide_type": "subslide"
    }
   },
   "outputs": [
    {
     "name": "stdout",
     "output_type": "stream",
     "text": [
      "5\n"
     ]
    }
   ],
   "source": [
    "# 數一下有幾個請益\n",
    "count = 0\n",
    "for title in posts_title:\n",
    "    if \"[請益]\" in title:\n",
    "        count += 1\n",
    "print(count)"
   ]
  },
  {
   "cell_type": "markdown",
   "metadata": {
    "slideshow": {
     "slide_type": "slide"
    }
   },
   "source": [
    "## 大的爬蟲\n",
    "\n",
    "![](https://upload.wikimedia.org/wikipedia/commons/thumb/d/df/WebCrawlerArchitecture.svg/440px-WebCrawlerArchitecture.svg.png)"
   ]
  },
  {
   "cell_type": "markdown",
   "metadata": {
    "slideshow": {
     "slide_type": "subslide"
    }
   },
   "source": [
    "## 大致可以分成三個部分\n",
    "\n",
    "- 取得網址\n",
    "- 抓取網頁內容\n",
    "- 分析萃取出有價值的資料"
   ]
  },
  {
   "cell_type": "markdown",
   "metadata": {
    "slideshow": {
     "slide_type": "subslide"
    }
   },
   "source": [
    "## 案例：\n",
    "\n",
    "每一篇文章的推噓文數"
   ]
  },
  {
   "cell_type": "code",
   "execution_count": 78,
   "metadata": {
    "slideshow": {
     "slide_type": "subslide"
    }
   },
   "outputs": [
    {
     "data": {
      "text/plain": [
       "<!DOCTYPE html>\n",
       "\n",
       "<html>\n",
       "<head>\n",
       "<meta charset=\"utf-8\"/>\n",
       "<meta content=\"width=device-width, initial-scale=1\" name=\"viewport\"/>\n",
       "<title>看板 Soft_Job 文章列表 - 批踢踢實業坊</title>\n",
       "<link href=\"//images.ptt.cc/bbs/v2.25/bbs-common.css\" rel=\"stylesheet\" type=\"text/css\"/>\n",
       "<link href=\"//images.ptt.cc/bbs/v2.25/bbs-base.css\" media=\"screen\" rel=\"stylesheet\" type=\"text/css\"/>\n",
       "<link href=\"//images.ptt.cc/bbs/v2.25/bbs-custom.css\" rel=\"stylesheet\" type=\"text/css\"/>\n",
       "<link href=\"//images.ptt.cc/bbs/v2.25/pushstream.css\" media=\"screen\" rel=\"stylesheet\" type=\"text/css\"/>\n",
       "<link href=\"//images.ptt.cc/bbs/v2.25/bbs-print.css\" media=\"print\" rel=\"stylesheet\" type=\"text/css\"/>\n",
       "</head>\n",
       "<body>\n",
       "<div id=\"topbar-container\">\n",
       "<div class=\"bbs-content\" id=\"topbar\">\n",
       "<a href=\"/bbs/\" id=\"logo\">批踢踢實業坊</a>\n",
       "<span>›</span>\n",
       "<a class=\"board\" href=\"/bbs/Soft_Job/index.html\"><span class=\"board-label\">看板 </span>Soft_Job</a>\n",
       "<a class=\"right small\" href=\"/about.html\">關於我們</a>\n",
       "<a class=\"right small\" href=\"/contact.html\">聯絡資訊</a>\n",
       "</div>\n",
       "</div>\n",
       "<div id=\"main-container\">\n",
       "<div id=\"action-bar-container\">\n",
       "<div class=\"action-bar\">\n",
       "<div class=\"btn-group btn-group-dir\">\n",
       "<a class=\"btn selected\" href=\"/bbs/Soft_Job/index.html\">看板</a>\n",
       "<a class=\"btn\" href=\"/man/Soft_Job/index.html\">精華區</a>\n",
       "</div>\n",
       "<div class=\"btn-group btn-group-paging\">\n",
       "<a class=\"btn wide\" href=\"/bbs/Soft_Job/index1.html\">最舊</a>\n",
       "<a class=\"btn wide\" href=\"/bbs/Soft_Job/index1463.html\">‹ 上頁</a>\n",
       "<a class=\"btn wide\" href=\"/bbs/Soft_Job/index1465.html\">下頁 ›</a>\n",
       "<a class=\"btn wide\" href=\"/bbs/Soft_Job/index.html\">最新</a>\n",
       "</div>\n",
       "</div>\n",
       "</div>\n",
       "<div class=\"r-list-container action-bar-margin bbs-screen\">\n",
       "<div class=\"search-bar\">\n",
       "<form action=\"search\" id=\"search-bar\" type=\"get\">\n",
       "<input class=\"query\" name=\"q\" placeholder=\"搜尋文章⋯\" type=\"text\" value=\"\"/>\n",
       "</form>\n",
       "</div>\n",
       "<div class=\"r-ent\">\n",
       "<div class=\"nrec\"><span class=\"hl f3\">10</span></div>\n",
       "<div class=\"title\">\n",
       "<a href=\"/bbs/Soft_Job/M.1554497629.A.BC9.html\">Re: [心得] 非本科轉職經驗談</a>\n",
       "</div>\n",
       "<div class=\"meta\">\n",
       "<div class=\"author\">ripple0129</div>\n",
       "<div class=\"article-menu\">\n",
       "<div class=\"trigger\">⋯</div>\n",
       "<div class=\"dropdown\">\n",
       "<div class=\"item\"><a href=\"/bbs/Soft_Job/search?q=thread%3A%5B%E5%BF%83%E5%BE%97%5D+%E9%9D%9E%E6%9C%AC%E7%A7%91%E8%BD%89%E8%81%B7%E7%B6%93%E9%A9%97%E8%AB%87\">搜尋同標題文章</a></div>\n",
       "<div class=\"item\"><a href=\"/bbs/Soft_Job/search?q=author%3Aripple0129\">搜尋看板內 ripple0129 的文章</a></div>\n",
       "</div>\n",
       "</div>\n",
       "<div class=\"date\"> 4/06</div>\n",
       "<div class=\"mark\"></div>\n",
       "</div>\n",
       "</div>\n",
       "<div class=\"r-ent\">\n",
       "<div class=\"nrec\"><span class=\"hl f2\">6</span></div>\n",
       "<div class=\"title\">\n",
       "<a href=\"/bbs/Soft_Job/M.1554515452.A.E69.html\">[請益] 九章算法</a>\n",
       "</div>\n",
       "<div class=\"meta\">\n",
       "<div class=\"author\">a29831968</div>\n",
       "<div class=\"article-menu\">\n",
       "<div class=\"trigger\">⋯</div>\n",
       "<div class=\"dropdown\">\n",
       "<div class=\"item\"><a href=\"/bbs/Soft_Job/search?q=thread%3A%5B%E8%AB%8B%E7%9B%8A%5D+%E4%B9%9D%E7%AB%A0%E7%AE%97%E6%B3%95\">搜尋同標題文章</a></div>\n",
       "<div class=\"item\"><a href=\"/bbs/Soft_Job/search?q=author%3Aa29831968\">搜尋看板內 a29831968 的文章</a></div>\n",
       "</div>\n",
       "</div>\n",
       "<div class=\"date\"> 4/06</div>\n",
       "<div class=\"mark\"></div>\n",
       "</div>\n",
       "</div>\n",
       "<div class=\"r-ent\">\n",
       "<div class=\"nrec\"><span class=\"hl f3\">19</span></div>\n",
       "<div class=\"title\">\n",
       "<a href=\"/bbs/Soft_Job/M.1554522627.A.C93.html\">[分享] 龜找殼 LINE買房機器人</a>\n",
       "</div>\n",
       "<div class=\"meta\">\n",
       "<div class=\"author\">c1823akimo</div>\n",
       "<div class=\"article-menu\">\n",
       "<div class=\"trigger\">⋯</div>\n",
       "<div class=\"dropdown\">\n",
       "<div class=\"item\"><a href=\"/bbs/Soft_Job/search?q=thread%3A%5B%E5%88%86%E4%BA%AB%5D+%E9%BE%9C%E6%89%BE%E6%AE%BC+LINE%E8%B2%B7%E6%88%BF%E6%A9%9F%E5%99%A8%E4%BA%BA\">搜尋同標題文章</a></div>\n",
       "<div class=\"item\"><a href=\"/bbs/Soft_Job/search?q=author%3Ac1823akimo\">搜尋看板內 c1823akimo 的文章</a></div>\n",
       "</div>\n",
       "</div>\n",
       "<div class=\"date\"> 4/06</div>\n",
       "<div class=\"mark\"></div>\n",
       "</div>\n",
       "</div>\n",
       "<div class=\"r-ent\">\n",
       "<div class=\"nrec\"><span class=\"hl f2\">8</span></div>\n",
       "<div class=\"title\">\n",
       "<a href=\"/bbs/Soft_Job/M.1554547280.A.486.html\">Re: [心得] 非本科轉職經驗談</a>\n",
       "</div>\n",
       "<div class=\"meta\">\n",
       "<div class=\"author\">j0958322080</div>\n",
       "<div class=\"article-menu\">\n",
       "<div class=\"trigger\">⋯</div>\n",
       "<div class=\"dropdown\">\n",
       "<div class=\"item\"><a href=\"/bbs/Soft_Job/search?q=thread%3A%5B%E5%BF%83%E5%BE%97%5D+%E9%9D%9E%E6%9C%AC%E7%A7%91%E8%BD%89%E8%81%B7%E7%B6%93%E9%A9%97%E8%AB%87\">搜尋同標題文章</a></div>\n",
       "<div class=\"item\"><a href=\"/bbs/Soft_Job/search?q=author%3Aj0958322080\">搜尋看板內 j0958322080 的文章</a></div>\n",
       "</div>\n",
       "</div>\n",
       "<div class=\"date\"> 4/06</div>\n",
       "<div class=\"mark\"></div>\n",
       "</div>\n",
       "</div>\n",
       "<div class=\"r-ent\">\n",
       "<div class=\"nrec\"><span class=\"hl f3\">33</span></div>\n",
       "<div class=\"title\">\n",
       "<a href=\"/bbs/Soft_Job/M.1554568574.A.7AB.html\">[請益] 想往這行走 大學該讀哪？</a>\n",
       "</div>\n",
       "<div class=\"meta\">\n",
       "<div class=\"author\">a22115555</div>\n",
       "<div class=\"article-menu\">\n",
       "<div class=\"trigger\">⋯</div>\n",
       "<div class=\"dropdown\">\n",
       "<div class=\"item\"><a href=\"/bbs/Soft_Job/search?q=thread%3A%5B%E8%AB%8B%E7%9B%8A%5D+%E6%83%B3%E5%BE%80%E9%80%99%E8%A1%8C%E8%B5%B0+%E5%A4%A7%E5%AD%B8%E8%A9%B2%E8%AE%80%E5%93%AA%EF%BC%9F\">搜尋同標題文章</a></div>\n",
       "<div class=\"item\"><a href=\"/bbs/Soft_Job/search?q=author%3Aa22115555\">搜尋看板內 a22115555 的文章</a></div>\n",
       "</div>\n",
       "</div>\n",
       "<div class=\"date\"> 4/07</div>\n",
       "<div class=\"mark\"></div>\n",
       "</div>\n",
       "</div>\n",
       "<div class=\"r-ent\">\n",
       "<div class=\"nrec\"><span class=\"hl f3\">43</span></div>\n",
       "<div class=\"title\">\n",
       "<a href=\"/bbs/Soft_Job/M.1554573254.A.5A8.html\">Re: [徵才] Flo 誠徵 Embedded Software Engineer</a>\n",
       "</div>\n",
       "<div class=\"meta\">\n",
       "<div class=\"author\">wendly777</div>\n",
       "<div class=\"article-menu\">\n",
       "<div class=\"trigger\">⋯</div>\n",
       "<div class=\"dropdown\">\n",
       "<div class=\"item\"><a href=\"/bbs/Soft_Job/search?q=thread%3A%5B%E5%BE%B5%E6%89%8D%5D+Flo+%E8%AA%A0%E5%BE%B5+Embedded+Software+Engineer\">搜尋同標題文章</a></div>\n",
       "<div class=\"item\"><a href=\"/bbs/Soft_Job/search?q=author%3Awendly777\">搜尋看板內 wendly777 的文章</a></div>\n",
       "</div>\n",
       "</div>\n",
       "<div class=\"date\"> 4/07</div>\n",
       "<div class=\"mark\"></div>\n",
       "</div>\n",
       "</div>\n",
       "<div class=\"r-ent\">\n",
       "<div class=\"nrec\"><span class=\"hl f3\">10</span></div>\n",
       "<div class=\"title\">\n",
       "<a href=\"/bbs/Soft_Job/M.1554613251.A.89E.html\">[請益] 設備轉職Java Web 行情請益</a>\n",
       "</div>\n",
       "<div class=\"meta\">\n",
       "<div class=\"author\">klolong</div>\n",
       "<div class=\"article-menu\">\n",
       "<div class=\"trigger\">⋯</div>\n",
       "<div class=\"dropdown\">\n",
       "<div class=\"item\"><a href=\"/bbs/Soft_Job/search?q=thread%3A%5B%E8%AB%8B%E7%9B%8A%5D+%E8%A8%AD%E5%82%99%E8%BD%89%E8%81%B7Java+Web+%E8%A1%8C%E6%83%85%E8%AB%8B%E7%9B%8A\">搜尋同標題文章</a></div>\n",
       "<div class=\"item\"><a href=\"/bbs/Soft_Job/search?q=author%3Aklolong\">搜尋看板內 klolong 的文章</a></div>\n",
       "</div>\n",
       "</div>\n",
       "<div class=\"date\"> 4/07</div>\n",
       "<div class=\"mark\"></div>\n",
       "</div>\n",
       "</div>\n",
       "<div class=\"r-ent\">\n",
       "<div class=\"nrec\"><span class=\"hl f2\">9</span></div>\n",
       "<div class=\"title\">\n",
       "<a href=\"/bbs/Soft_Job/M.1554628577.A.ADC.html\">[請益] 轉職ML請教</a>\n",
       "</div>\n",
       "<div class=\"meta\">\n",
       "<div class=\"author\">com183</div>\n",
       "<div class=\"article-menu\">\n",
       "<div class=\"trigger\">⋯</div>\n",
       "<div class=\"dropdown\">\n",
       "<div class=\"item\"><a href=\"/bbs/Soft_Job/search?q=thread%3A%5B%E8%AB%8B%E7%9B%8A%5D+%E8%BD%89%E8%81%B7ML%E8%AB%8B%E6%95%99\">搜尋同標題文章</a></div>\n",
       "<div class=\"item\"><a href=\"/bbs/Soft_Job/search?q=author%3Acom183\">搜尋看板內 com183 的文章</a></div>\n",
       "</div>\n",
       "</div>\n",
       "<div class=\"date\"> 4/07</div>\n",
       "<div class=\"mark\"></div>\n",
       "</div>\n",
       "</div>\n",
       "<div class=\"r-ent\">\n",
       "<div class=\"nrec\"><span class=\"hl f2\">3</span></div>\n",
       "<div class=\"title\">\n",
       "<a href=\"/bbs/Soft_Job/M.1554634119.A.B54.html\">[討論] 團報：第二屆《機器學習百日馬拉松》</a>\n",
       "</div>\n",
       "<div class=\"meta\">\n",
       "<div class=\"author\">jyuan1993</div>\n",
       "<div class=\"article-menu\">\n",
       "<div class=\"trigger\">⋯</div>\n",
       "<div class=\"dropdown\">\n",
       "<div class=\"item\"><a href=\"/bbs/Soft_Job/search?q=thread%3A%5B%E8%A8%8E%E8%AB%96%5D+%E5%9C%98%E5%A0%B1%EF%BC%9A%E7%AC%AC%E4%BA%8C%E5%B1%86%E3%80%8A%E6%A9%9F%E5%99%A8%E5%AD%B8%E7%BF%92%E7%99%BE%E6%97%A5%E9%A6%AC%E6%8B%89%E6%9D%BE%E3%80%8B\">搜尋同標題文章</a></div>\n",
       "<div class=\"item\"><a href=\"/bbs/Soft_Job/search?q=author%3Ajyuan1993\">搜尋看板內 jyuan1993 的文章</a></div>\n",
       "</div>\n",
       "</div>\n",
       "<div class=\"date\"> 4/07</div>\n",
       "<div class=\"mark\"></div>\n",
       "</div>\n",
       "</div>\n",
       "<div class=\"r-ent\">\n",
       "<div class=\"nrec\"><span class=\"hl f2\">9</span></div>\n",
       "<div class=\"title\">\n",
       "<a href=\"/bbs/Soft_Job/M.1554647372.A.ADC.html\">[請益] 轉職offer請益</a>\n",
       "</div>\n",
       "<div class=\"meta\">\n",
       "<div class=\"author\">mcsausage</div>\n",
       "<div class=\"article-menu\">\n",
       "<div class=\"trigger\">⋯</div>\n",
       "<div class=\"dropdown\">\n",
       "<div class=\"item\"><a href=\"/bbs/Soft_Job/search?q=thread%3A%5B%E8%AB%8B%E7%9B%8A%5D+%E8%BD%89%E8%81%B7offer%E8%AB%8B%E7%9B%8A\">搜尋同標題文章</a></div>\n",
       "<div class=\"item\"><a href=\"/bbs/Soft_Job/search?q=author%3Amcsausage\">搜尋看板內 mcsausage 的文章</a></div>\n",
       "</div>\n",
       "</div>\n",
       "<div class=\"date\"> 4/07</div>\n",
       "<div class=\"mark\"></div>\n",
       "</div>\n",
       "</div>\n",
       "<div class=\"r-ent\">\n",
       "<div class=\"nrec\"><span class=\"hl f3\">31</span></div>\n",
       "<div class=\"title\">\n",
       "<a href=\"/bbs/Soft_Job/M.1554717492.A.3FD.html\">[新聞] 街口收購愛評網後轉移現金資產並解雇員工</a>\n",
       "</div>\n",
       "<div class=\"meta\">\n",
       "<div class=\"author\">taiwan08</div>\n",
       "<div class=\"article-menu\">\n",
       "<div class=\"trigger\">⋯</div>\n",
       "<div class=\"dropdown\">\n",
       "<div class=\"item\"><a href=\"/bbs/Soft_Job/search?q=thread%3A%5B%E6%96%B0%E8%81%9E%5D+%E8%A1%97%E5%8F%A3%E6%94%B6%E8%B3%BC%E6%84%9B%E8%A9%95%E7%B6%B2%E5%BE%8C%E8%BD%89%E7%A7%BB%E7%8F%BE%E9%87%91%E8%B3%87%E7%94%A2%E4%B8%A6%E8%A7%A3%E9%9B%87%E5%93%A1%E5%B7%A5\">搜尋同標題文章</a></div>\n",
       "<div class=\"item\"><a href=\"/bbs/Soft_Job/search?q=author%3Ataiwan08\">搜尋看板內 taiwan08 的文章</a></div>\n",
       "</div>\n",
       "</div>\n",
       "<div class=\"date\"> 4/08</div>\n",
       "<div class=\"mark\"></div>\n",
       "</div>\n",
       "</div>\n",
       "<div class=\"r-ent\">\n",
       "<div class=\"nrec\"><span class=\"hl f3\">10</span></div>\n",
       "<div class=\"title\">\n",
       "<a href=\"/bbs/Soft_Job/M.1554720729.A.493.html\">[徵才] LyncusTek誠徵Junior Frontend Engineer</a>\n",
       "</div>\n",
       "<div class=\"meta\">\n",
       "<div class=\"author\">travious</div>\n",
       "<div class=\"article-menu\">\n",
       "<div class=\"trigger\">⋯</div>\n",
       "<div class=\"dropdown\">\n",
       "<div class=\"item\"><a href=\"/bbs/Soft_Job/search?q=thread%3A%5B%E5%BE%B5%E6%89%8D%5D+LyncusTek%E8%AA%A0%E5%BE%B5Junior+Frontend+Engineer\">搜尋同標題文章</a></div>\n",
       "<div class=\"item\"><a href=\"/bbs/Soft_Job/search?q=author%3Atravious\">搜尋看板內 travious 的文章</a></div>\n",
       "</div>\n",
       "</div>\n",
       "<div class=\"date\"> 4/08</div>\n",
       "<div class=\"mark\"></div>\n",
       "</div>\n",
       "</div>\n",
       "<div class=\"r-ent\">\n",
       "<div class=\"nrec\"><span class=\"hl f2\">8</span></div>\n",
       "<div class=\"title\">\n",
       "<a href=\"/bbs/Soft_Job/M.1554727074.A.422.html\">[討論] Wix and WordPress</a>\n",
       "</div>\n",
       "<div class=\"meta\">\n",
       "<div class=\"author\">sweetsss111</div>\n",
       "<div class=\"article-menu\">\n",
       "<div class=\"trigger\">⋯</div>\n",
       "<div class=\"dropdown\">\n",
       "<div class=\"item\"><a href=\"/bbs/Soft_Job/search?q=thread%3A%5B%E8%A8%8E%E8%AB%96%5D+Wix+and+WordPress\">搜尋同標題文章</a></div>\n",
       "<div class=\"item\"><a href=\"/bbs/Soft_Job/search?q=author%3Asweetsss111\">搜尋看板內 sweetsss111 的文章</a></div>\n",
       "</div>\n",
       "</div>\n",
       "<div class=\"date\"> 4/08</div>\n",
       "<div class=\"mark\"></div>\n",
       "</div>\n",
       "</div>\n",
       "<div class=\"r-ent\">\n",
       "<div class=\"nrec\"><span class=\"hl f3\">14</span></div>\n",
       "<div class=\"title\">\n",
       "<a href=\"/bbs/Soft_Job/M.1554733003.A.586.html\">Fw: [請益] 實習offer請益(微軟/Google)</a>\n",
       "</div>\n",
       "<div class=\"meta\">\n",
       "<div class=\"author\">hanyi0923</div>\n",
       "<div class=\"article-menu\">\n",
       "<div class=\"trigger\">⋯</div>\n",
       "<div class=\"dropdown\">\n",
       "<div class=\"item\"><a href=\"/bbs/Soft_Job/search?q=thread%3A%5B%E8%AB%8B%E7%9B%8A%5D+%E5%AF%A6%E7%BF%92offer%E8%AB%8B%E7%9B%8A%28%E5%BE%AE%E8%BB%9F%2FGoogle%29\">搜尋同標題文章</a></div>\n",
       "<div class=\"item\"><a href=\"/bbs/Soft_Job/search?q=author%3Ahanyi0923\">搜尋看板內 hanyi0923 的文章</a></div>\n",
       "</div>\n",
       "</div>\n",
       "<div class=\"date\"> 4/08</div>\n",
       "<div class=\"mark\"></div>\n",
       "</div>\n",
       "</div>\n",
       "<div class=\"r-ent\">\n",
       "<div class=\"nrec\"><span class=\"hl f2\">5</span></div>\n",
       "<div class=\"title\">\n",
       "<a href=\"/bbs/Soft_Job/M.1554747646.A.C71.html\">[請益] 新鮮人離職請益</a>\n",
       "</div>\n",
       "<div class=\"meta\">\n",
       "<div class=\"author\">nlpsl202</div>\n",
       "<div class=\"article-menu\">\n",
       "<div class=\"trigger\">⋯</div>\n",
       "<div class=\"dropdown\">\n",
       "<div class=\"item\"><a href=\"/bbs/Soft_Job/search?q=thread%3A%5B%E8%AB%8B%E7%9B%8A%5D+%E6%96%B0%E9%AE%AE%E4%BA%BA%E9%9B%A2%E8%81%B7%E8%AB%8B%E7%9B%8A\">搜尋同標題文章</a></div>\n",
       "<div class=\"item\"><a href=\"/bbs/Soft_Job/search?q=author%3Anlpsl202\">搜尋看板內 nlpsl202 的文章</a></div>\n",
       "</div>\n",
       "</div>\n",
       "<div class=\"date\"> 4/09</div>\n",
       "<div class=\"mark\"></div>\n",
       "</div>\n",
       "</div>\n",
       "<div class=\"r-ent\">\n",
       "<div class=\"nrec\"><span class=\"hl f2\">9</span></div>\n",
       "<div class=\"title\">\n",
       "<a href=\"/bbs/Soft_Job/M.1554748125.A.4DA.html\">[請益] 菜鳥OFFER請益</a>\n",
       "</div>\n",
       "<div class=\"meta\">\n",
       "<div class=\"author\">aegisty</div>\n",
       "<div class=\"article-menu\">\n",
       "<div class=\"trigger\">⋯</div>\n",
       "<div class=\"dropdown\">\n",
       "<div class=\"item\"><a href=\"/bbs/Soft_Job/search?q=thread%3A%5B%E8%AB%8B%E7%9B%8A%5D+%E8%8F%9C%E9%B3%A5OFFER%E8%AB%8B%E7%9B%8A\">搜尋同標題文章</a></div>\n",
       "<div class=\"item\"><a href=\"/bbs/Soft_Job/search?q=author%3Aaegisty\">搜尋看板內 aegisty 的文章</a></div>\n",
       "</div>\n",
       "</div>\n",
       "<div class=\"date\"> 4/09</div>\n",
       "<div class=\"mark\"></div>\n",
       "</div>\n",
       "</div>\n",
       "<div class=\"r-ent\">\n",
       "<div class=\"nrec\"><span class=\"hl f3\">23</span></div>\n",
       "<div class=\"title\">\n",
       "<a href=\"/bbs/Soft_Job/M.1554768580.A.6FA.html\">[請益]  寫軟體難被家人認同？</a>\n",
       "</div>\n",
       "<div class=\"meta\">\n",
       "<div class=\"author\">MrSundayy</div>\n",
       "<div class=\"article-menu\">\n",
       "<div class=\"trigger\">⋯</div>\n",
       "<div class=\"dropdown\">\n",
       "<div class=\"item\"><a href=\"/bbs/Soft_Job/search?q=thread%3A%5B%E8%AB%8B%E7%9B%8A%5D++%E5%AF%AB%E8%BB%9F%E9%AB%94%E9%9B%A3%E8%A2%AB%E5%AE%B6%E4%BA%BA%E8%AA%8D%E5%90%8C%EF%BC%9F\">搜尋同標題文章</a></div>\n",
       "<div class=\"item\"><a href=\"/bbs/Soft_Job/search?q=author%3AMrSundayy\">搜尋看板內 MrSundayy 的文章</a></div>\n",
       "</div>\n",
       "</div>\n",
       "<div class=\"date\"> 4/09</div>\n",
       "<div class=\"mark\"></div>\n",
       "</div>\n",
       "</div>\n",
       "<div class=\"r-ent\">\n",
       "<div class=\"nrec\"><span class=\"hl f2\">4</span></div>\n",
       "<div class=\"title\">\n",
       "<a href=\"/bbs/Soft_Job/M.1554777176.A.62E.html\">[分享] 跟網友一起蒐集資料的 open source 系統</a>\n",
       "</div>\n",
       "<div class=\"meta\">\n",
       "<div class=\"author\">poopoo888888</div>\n",
       "<div class=\"article-menu\">\n",
       "<div class=\"trigger\">⋯</div>\n",
       "<div class=\"dropdown\">\n",
       "<div class=\"item\"><a href=\"/bbs/Soft_Job/search?q=thread%3A%5B%E5%88%86%E4%BA%AB%5D+%E8%B7%9F%E7%B6%B2%E5%8F%8B%E4%B8%80%E8%B5%B7%E8%92%90%E9%9B%86%E8%B3%87%E6%96%99%E7%9A%84+open+source+%E7%B3%BB%E7%B5%B1\">搜尋同標題文章</a></div>\n",
       "<div class=\"item\"><a href=\"/bbs/Soft_Job/search?q=author%3Apoopoo888888\">搜尋看板內 poopoo888888 的文章</a></div>\n",
       "</div>\n",
       "</div>\n",
       "<div class=\"date\"> 4/09</div>\n",
       "<div class=\"mark\"></div>\n",
       "</div>\n",
       "</div>\n",
       "<div class=\"r-ent\">\n",
       "<div class=\"nrec\"><span class=\"hl f2\">1</span></div>\n",
       "<div class=\"title\">\n",
       "\t\t\t\n",
       "\t\t\t\t(本文已被刪除) [NadiaArwall]\n",
       "\t\t\t\n",
       "\t\t\t</div>\n",
       "<div class=\"meta\">\n",
       "<div class=\"author\">-</div>\n",
       "<div class=\"article-menu\">\n",
       "</div>\n",
       "<div class=\"date\"> 4/09</div>\n",
       "<div class=\"mark\"></div>\n",
       "</div>\n",
       "</div>\n",
       "<div class=\"r-ent\">\n",
       "<div class=\"nrec\"><span class=\"hl f2\">7</span></div>\n",
       "<div class=\"title\">\n",
       "<a href=\"/bbs/Soft_Job/M.1554779333.A.5DC.html\">[請益] Google內部技術工作的鄙視鏈？</a>\n",
       "</div>\n",
       "<div class=\"meta\">\n",
       "<div class=\"author\">dharma</div>\n",
       "<div class=\"article-menu\">\n",
       "<div class=\"trigger\">⋯</div>\n",
       "<div class=\"dropdown\">\n",
       "<div class=\"item\"><a href=\"/bbs/Soft_Job/search?q=thread%3A%5B%E8%AB%8B%E7%9B%8A%5D+Google%E5%85%A7%E9%83%A8%E6%8A%80%E8%A1%93%E5%B7%A5%E4%BD%9C%E7%9A%84%E9%84%99%E8%A6%96%E9%8F%88%EF%BC%9F\">搜尋同標題文章</a></div>\n",
       "<div class=\"item\"><a href=\"/bbs/Soft_Job/search?q=author%3Adharma\">搜尋看板內 dharma 的文章</a></div>\n",
       "</div>\n",
       "</div>\n",
       "<div class=\"date\"> 4/09</div>\n",
       "<div class=\"mark\"></div>\n",
       "</div>\n",
       "</div>\n",
       "</div>\n",
       "</div>\n",
       "<script>\n",
       "  (function(i,s,o,g,r,a,m){i['GoogleAnalyticsObject']=r;i[r]=i[r]||function(){\n",
       "  (i[r].q=i[r].q||[]).push(arguments)},i[r].l=1*new Date();a=s.createElement(o),\n",
       "  m=s.getElementsByTagName(o)[0];a.async=1;a.src=g;m.parentNode.insertBefore(a,m)\n",
       "  })(window,document,'script','https://www.google-analytics.com/analytics.js','ga');\n",
       "\n",
       "  ga('create', 'UA-32365737-1', {\n",
       "    cookieDomain: 'ptt.cc',\n",
       "    legacyCookieDomain: 'ptt.cc'\n",
       "  });\n",
       "  ga('send', 'pageview');\n",
       "</script>\n",
       "<script src=\"//ajax.googleapis.com/ajax/libs/jquery/2.1.1/jquery.min.js\"></script>\n",
       "<script src=\"//images.ptt.cc/bbs/v2.25/bbs.js\"></script>\n",
       "</body>\n",
       "</html>"
      ]
     },
     "execution_count": 78,
     "metadata": {},
     "output_type": "execute_result"
    }
   ],
   "source": [
    "import requests\n",
    "from bs4 import BeautifulSoup\n",
    "\n",
    "resp = requests.get(\"https://www.ptt.cc/bbs/Soft_Job/index1464.html\")\n",
    "bs = BeautifulSoup(resp.text, 'html.parser')\n",
    "bs"
   ]
  },
  {
   "cell_type": "code",
   "execution_count": 79,
   "metadata": {
    "scrolled": true,
    "slideshow": {
     "slide_type": "subslide"
    }
   },
   "outputs": [
    {
     "data": {
      "text/plain": [
       "[<a href=\"/bbs/\" id=\"logo\">批踢踢實業坊</a>,\n",
       " <a class=\"board\" href=\"/bbs/Soft_Job/index.html\"><span class=\"board-label\">看板 </span>Soft_Job</a>,\n",
       " <a class=\"right small\" href=\"/about.html\">關於我們</a>,\n",
       " <a class=\"right small\" href=\"/contact.html\">聯絡資訊</a>,\n",
       " <a class=\"btn selected\" href=\"/bbs/Soft_Job/index.html\">看板</a>,\n",
       " <a class=\"btn\" href=\"/man/Soft_Job/index.html\">精華區</a>,\n",
       " <a class=\"btn wide\" href=\"/bbs/Soft_Job/index1.html\">最舊</a>,\n",
       " <a class=\"btn wide\" href=\"/bbs/Soft_Job/index1463.html\">‹ 上頁</a>,\n",
       " <a class=\"btn wide\" href=\"/bbs/Soft_Job/index1465.html\">下頁 ›</a>,\n",
       " <a class=\"btn wide\" href=\"/bbs/Soft_Job/index.html\">最新</a>,\n",
       " <a href=\"/bbs/Soft_Job/M.1554497629.A.BC9.html\">Re: [心得] 非本科轉職經驗談</a>,\n",
       " <a href=\"/bbs/Soft_Job/search?q=thread%3A%5B%E5%BF%83%E5%BE%97%5D+%E9%9D%9E%E6%9C%AC%E7%A7%91%E8%BD%89%E8%81%B7%E7%B6%93%E9%A9%97%E8%AB%87\">搜尋同標題文章</a>,\n",
       " <a href=\"/bbs/Soft_Job/search?q=author%3Aripple0129\">搜尋看板內 ripple0129 的文章</a>,\n",
       " <a href=\"/bbs/Soft_Job/M.1554515452.A.E69.html\">[請益] 九章算法</a>,\n",
       " <a href=\"/bbs/Soft_Job/search?q=thread%3A%5B%E8%AB%8B%E7%9B%8A%5D+%E4%B9%9D%E7%AB%A0%E7%AE%97%E6%B3%95\">搜尋同標題文章</a>,\n",
       " <a href=\"/bbs/Soft_Job/search?q=author%3Aa29831968\">搜尋看板內 a29831968 的文章</a>,\n",
       " <a href=\"/bbs/Soft_Job/M.1554522627.A.C93.html\">[分享] 龜找殼 LINE買房機器人</a>,\n",
       " <a href=\"/bbs/Soft_Job/search?q=thread%3A%5B%E5%88%86%E4%BA%AB%5D+%E9%BE%9C%E6%89%BE%E6%AE%BC+LINE%E8%B2%B7%E6%88%BF%E6%A9%9F%E5%99%A8%E4%BA%BA\">搜尋同標題文章</a>,\n",
       " <a href=\"/bbs/Soft_Job/search?q=author%3Ac1823akimo\">搜尋看板內 c1823akimo 的文章</a>,\n",
       " <a href=\"/bbs/Soft_Job/M.1554547280.A.486.html\">Re: [心得] 非本科轉職經驗談</a>,\n",
       " <a href=\"/bbs/Soft_Job/search?q=thread%3A%5B%E5%BF%83%E5%BE%97%5D+%E9%9D%9E%E6%9C%AC%E7%A7%91%E8%BD%89%E8%81%B7%E7%B6%93%E9%A9%97%E8%AB%87\">搜尋同標題文章</a>,\n",
       " <a href=\"/bbs/Soft_Job/search?q=author%3Aj0958322080\">搜尋看板內 j0958322080 的文章</a>,\n",
       " <a href=\"/bbs/Soft_Job/M.1554568574.A.7AB.html\">[請益] 想往這行走 大學該讀哪？</a>,\n",
       " <a href=\"/bbs/Soft_Job/search?q=thread%3A%5B%E8%AB%8B%E7%9B%8A%5D+%E6%83%B3%E5%BE%80%E9%80%99%E8%A1%8C%E8%B5%B0+%E5%A4%A7%E5%AD%B8%E8%A9%B2%E8%AE%80%E5%93%AA%EF%BC%9F\">搜尋同標題文章</a>,\n",
       " <a href=\"/bbs/Soft_Job/search?q=author%3Aa22115555\">搜尋看板內 a22115555 的文章</a>,\n",
       " <a href=\"/bbs/Soft_Job/M.1554573254.A.5A8.html\">Re: [徵才] Flo 誠徵 Embedded Software Engineer</a>,\n",
       " <a href=\"/bbs/Soft_Job/search?q=thread%3A%5B%E5%BE%B5%E6%89%8D%5D+Flo+%E8%AA%A0%E5%BE%B5+Embedded+Software+Engineer\">搜尋同標題文章</a>,\n",
       " <a href=\"/bbs/Soft_Job/search?q=author%3Awendly777\">搜尋看板內 wendly777 的文章</a>,\n",
       " <a href=\"/bbs/Soft_Job/M.1554613251.A.89E.html\">[請益] 設備轉職Java Web 行情請益</a>,\n",
       " <a href=\"/bbs/Soft_Job/search?q=thread%3A%5B%E8%AB%8B%E7%9B%8A%5D+%E8%A8%AD%E5%82%99%E8%BD%89%E8%81%B7Java+Web+%E8%A1%8C%E6%83%85%E8%AB%8B%E7%9B%8A\">搜尋同標題文章</a>,\n",
       " <a href=\"/bbs/Soft_Job/search?q=author%3Aklolong\">搜尋看板內 klolong 的文章</a>,\n",
       " <a href=\"/bbs/Soft_Job/M.1554628577.A.ADC.html\">[請益] 轉職ML請教</a>,\n",
       " <a href=\"/bbs/Soft_Job/search?q=thread%3A%5B%E8%AB%8B%E7%9B%8A%5D+%E8%BD%89%E8%81%B7ML%E8%AB%8B%E6%95%99\">搜尋同標題文章</a>,\n",
       " <a href=\"/bbs/Soft_Job/search?q=author%3Acom183\">搜尋看板內 com183 的文章</a>,\n",
       " <a href=\"/bbs/Soft_Job/M.1554634119.A.B54.html\">[討論] 團報：第二屆《機器學習百日馬拉松》</a>,\n",
       " <a href=\"/bbs/Soft_Job/search?q=thread%3A%5B%E8%A8%8E%E8%AB%96%5D+%E5%9C%98%E5%A0%B1%EF%BC%9A%E7%AC%AC%E4%BA%8C%E5%B1%86%E3%80%8A%E6%A9%9F%E5%99%A8%E5%AD%B8%E7%BF%92%E7%99%BE%E6%97%A5%E9%A6%AC%E6%8B%89%E6%9D%BE%E3%80%8B\">搜尋同標題文章</a>,\n",
       " <a href=\"/bbs/Soft_Job/search?q=author%3Ajyuan1993\">搜尋看板內 jyuan1993 的文章</a>,\n",
       " <a href=\"/bbs/Soft_Job/M.1554647372.A.ADC.html\">[請益] 轉職offer請益</a>,\n",
       " <a href=\"/bbs/Soft_Job/search?q=thread%3A%5B%E8%AB%8B%E7%9B%8A%5D+%E8%BD%89%E8%81%B7offer%E8%AB%8B%E7%9B%8A\">搜尋同標題文章</a>,\n",
       " <a href=\"/bbs/Soft_Job/search?q=author%3Amcsausage\">搜尋看板內 mcsausage 的文章</a>,\n",
       " <a href=\"/bbs/Soft_Job/M.1554717492.A.3FD.html\">[新聞] 街口收購愛評網後轉移現金資產並解雇員工</a>,\n",
       " <a href=\"/bbs/Soft_Job/search?q=thread%3A%5B%E6%96%B0%E8%81%9E%5D+%E8%A1%97%E5%8F%A3%E6%94%B6%E8%B3%BC%E6%84%9B%E8%A9%95%E7%B6%B2%E5%BE%8C%E8%BD%89%E7%A7%BB%E7%8F%BE%E9%87%91%E8%B3%87%E7%94%A2%E4%B8%A6%E8%A7%A3%E9%9B%87%E5%93%A1%E5%B7%A5\">搜尋同標題文章</a>,\n",
       " <a href=\"/bbs/Soft_Job/search?q=author%3Ataiwan08\">搜尋看板內 taiwan08 的文章</a>,\n",
       " <a href=\"/bbs/Soft_Job/M.1554720729.A.493.html\">[徵才] LyncusTek誠徵Junior Frontend Engineer</a>,\n",
       " <a href=\"/bbs/Soft_Job/search?q=thread%3A%5B%E5%BE%B5%E6%89%8D%5D+LyncusTek%E8%AA%A0%E5%BE%B5Junior+Frontend+Engineer\">搜尋同標題文章</a>,\n",
       " <a href=\"/bbs/Soft_Job/search?q=author%3Atravious\">搜尋看板內 travious 的文章</a>,\n",
       " <a href=\"/bbs/Soft_Job/M.1554727074.A.422.html\">[討論] Wix and WordPress</a>,\n",
       " <a href=\"/bbs/Soft_Job/search?q=thread%3A%5B%E8%A8%8E%E8%AB%96%5D+Wix+and+WordPress\">搜尋同標題文章</a>,\n",
       " <a href=\"/bbs/Soft_Job/search?q=author%3Asweetsss111\">搜尋看板內 sweetsss111 的文章</a>,\n",
       " <a href=\"/bbs/Soft_Job/M.1554733003.A.586.html\">Fw: [請益] 實習offer請益(微軟/Google)</a>,\n",
       " <a href=\"/bbs/Soft_Job/search?q=thread%3A%5B%E8%AB%8B%E7%9B%8A%5D+%E5%AF%A6%E7%BF%92offer%E8%AB%8B%E7%9B%8A%28%E5%BE%AE%E8%BB%9F%2FGoogle%29\">搜尋同標題文章</a>,\n",
       " <a href=\"/bbs/Soft_Job/search?q=author%3Ahanyi0923\">搜尋看板內 hanyi0923 的文章</a>,\n",
       " <a href=\"/bbs/Soft_Job/M.1554747646.A.C71.html\">[請益] 新鮮人離職請益</a>,\n",
       " <a href=\"/bbs/Soft_Job/search?q=thread%3A%5B%E8%AB%8B%E7%9B%8A%5D+%E6%96%B0%E9%AE%AE%E4%BA%BA%E9%9B%A2%E8%81%B7%E8%AB%8B%E7%9B%8A\">搜尋同標題文章</a>,\n",
       " <a href=\"/bbs/Soft_Job/search?q=author%3Anlpsl202\">搜尋看板內 nlpsl202 的文章</a>,\n",
       " <a href=\"/bbs/Soft_Job/M.1554748125.A.4DA.html\">[請益] 菜鳥OFFER請益</a>,\n",
       " <a href=\"/bbs/Soft_Job/search?q=thread%3A%5B%E8%AB%8B%E7%9B%8A%5D+%E8%8F%9C%E9%B3%A5OFFER%E8%AB%8B%E7%9B%8A\">搜尋同標題文章</a>,\n",
       " <a href=\"/bbs/Soft_Job/search?q=author%3Aaegisty\">搜尋看板內 aegisty 的文章</a>,\n",
       " <a href=\"/bbs/Soft_Job/M.1554768580.A.6FA.html\">[請益]  寫軟體難被家人認同？</a>,\n",
       " <a href=\"/bbs/Soft_Job/search?q=thread%3A%5B%E8%AB%8B%E7%9B%8A%5D++%E5%AF%AB%E8%BB%9F%E9%AB%94%E9%9B%A3%E8%A2%AB%E5%AE%B6%E4%BA%BA%E8%AA%8D%E5%90%8C%EF%BC%9F\">搜尋同標題文章</a>,\n",
       " <a href=\"/bbs/Soft_Job/search?q=author%3AMrSundayy\">搜尋看板內 MrSundayy 的文章</a>,\n",
       " <a href=\"/bbs/Soft_Job/M.1554777176.A.62E.html\">[分享] 跟網友一起蒐集資料的 open source 系統</a>,\n",
       " <a href=\"/bbs/Soft_Job/search?q=thread%3A%5B%E5%88%86%E4%BA%AB%5D+%E8%B7%9F%E7%B6%B2%E5%8F%8B%E4%B8%80%E8%B5%B7%E8%92%90%E9%9B%86%E8%B3%87%E6%96%99%E7%9A%84+open+source+%E7%B3%BB%E7%B5%B1\">搜尋同標題文章</a>,\n",
       " <a href=\"/bbs/Soft_Job/search?q=author%3Apoopoo888888\">搜尋看板內 poopoo888888 的文章</a>,\n",
       " <a href=\"/bbs/Soft_Job/M.1554779333.A.5DC.html\">[請益] Google內部技術工作的鄙視鏈？</a>,\n",
       " <a href=\"/bbs/Soft_Job/search?q=thread%3A%5B%E8%AB%8B%E7%9B%8A%5D+Google%E5%85%A7%E9%83%A8%E6%8A%80%E8%A1%93%E5%B7%A5%E4%BD%9C%E7%9A%84%E9%84%99%E8%A6%96%E9%8F%88%EF%BC%9F\">搜尋同標題文章</a>,\n",
       " <a href=\"/bbs/Soft_Job/search?q=author%3Adharma\">搜尋看板內 dharma 的文章</a>]"
      ]
     },
     "execution_count": 79,
     "metadata": {},
     "output_type": "execute_result"
    }
   ],
   "source": [
    "bs.find_all(\"a\")"
   ]
  },
  {
   "cell_type": "code",
   "execution_count": 89,
   "metadata": {
    "slideshow": {
     "slide_type": "subslide"
    }
   },
   "outputs": [
    {
     "name": "stdout",
     "output_type": "stream",
     "text": [
      "Re: [心得] 非本科轉職經驗談\n",
      "/bbs/Soft_Job/M.1554497629.A.BC9.html\n",
      "推噓箭頭： 51\n",
      "\n",
      "[請益] 九章算法\n",
      "/bbs/Soft_Job/M.1554515452.A.E69.html\n",
      "推噓箭頭： 17\n",
      "\n",
      "[分享] 龜找殼 LINE買房機器人\n",
      "/bbs/Soft_Job/M.1554522627.A.C93.html\n",
      "推噓箭頭： 22\n",
      "\n",
      "Re: [心得] 非本科轉職經驗談\n",
      "/bbs/Soft_Job/M.1554547280.A.486.html\n",
      "推噓箭頭： 20\n",
      "\n",
      "[請益] 想往這行走 大學該讀哪？\n",
      "/bbs/Soft_Job/M.1554568574.A.7AB.html\n",
      "推噓箭頭： 104\n",
      "\n",
      "Re: [徵才] Flo 誠徵 Embedded Software Engineer\n",
      "/bbs/Soft_Job/M.1554573254.A.5A8.html\n",
      "推噓箭頭： 77\n",
      "\n",
      "[請益] 設備轉職Java Web 行情請益\n",
      "/bbs/Soft_Job/M.1554613251.A.89E.html\n",
      "推噓箭頭： 49\n",
      "\n",
      "[請益] 轉職ML請教\n",
      "/bbs/Soft_Job/M.1554628577.A.ADC.html\n",
      "推噓箭頭： 43\n",
      "\n",
      "[討論] 團報：第二屆《機器學習百日馬拉松》\n",
      "/bbs/Soft_Job/M.1554634119.A.B54.html\n",
      "推噓箭頭： 6\n",
      "\n",
      "[請益] 轉職offer請益\n",
      "/bbs/Soft_Job/M.1554647372.A.ADC.html\n",
      "推噓箭頭： 23\n",
      "\n",
      "[新聞] 街口收購愛評網後轉移現金資產並解雇員工\n",
      "/bbs/Soft_Job/M.1554717492.A.3FD.html\n",
      "推噓箭頭： 59\n",
      "\n",
      "[徵才] LyncusTek誠徵Junior Frontend Engineer\n",
      "/bbs/Soft_Job/M.1554720729.A.493.html\n",
      "推噓箭頭： 13\n",
      "\n",
      "[討論] Wix and WordPress\n",
      "/bbs/Soft_Job/M.1554727074.A.422.html\n",
      "推噓箭頭： 16\n",
      "\n",
      "Fw: [請益] 實習offer請益(微軟/Google)\n",
      "/bbs/Soft_Job/M.1554733003.A.586.html\n",
      "推噓箭頭： 38\n",
      "\n",
      "[請益] 新鮮人離職請益\n",
      "/bbs/Soft_Job/M.1554747646.A.C71.html\n",
      "推噓箭頭： 20\n",
      "\n",
      "[請益] 菜鳥OFFER請益\n",
      "/bbs/Soft_Job/M.1554748125.A.4DA.html\n",
      "推噓箭頭： 14\n",
      "\n",
      "[請益]  寫軟體難被家人認同？\n",
      "/bbs/Soft_Job/M.1554768580.A.6FA.html\n",
      "推噓箭頭： 96\n",
      "\n",
      "[分享] 跟網友一起蒐集資料的 open source 系統\n",
      "/bbs/Soft_Job/M.1554777176.A.62E.html\n",
      "推噓箭頭： 4\n",
      "\n",
      "[請益] Google內部技術工作的鄙視鏈？\n",
      "/bbs/Soft_Job/M.1554779333.A.5DC.html\n",
      "推噓箭頭： 19\n",
      "\n"
     ]
    }
   ],
   "source": [
    "# 所有的標題超連結\n",
    "posts_title = bs.find_all(\"div\",\"title\")\n",
    "for post in posts_title:\n",
    "\n",
    "    # 有些文章被刪除了，只拜訪沒有被刪除的\n",
    "    if post.a:    \n",
    "        print(post.text.strip())\n",
    "        \n",
    "        # 文章標題\n",
    "        post_url = post.a['href'].strip()\n",
    "        print(post_url)\n",
    "        \n",
    "        # 拜訪該文章頁面\n",
    "        post_resp = requests.get(\"https://www.ptt.cc/\" + post_url)\n",
    "        post_bs = BeautifulSoup(post_resp.text, 'html.parser')\n",
    "        \n",
    "        # 抓出推噓箭頭\n",
    "        push = post_bs.find_all(\"div\",\"push\")\n",
    "        print(\"推噓箭頭：\", len(push))\n",
    "        print()\n",
    "        \n",
    "        "
   ]
  },
  {
   "cell_type": "code",
   "execution_count": null,
   "metadata": {},
   "outputs": [],
   "source": []
  },
  {
   "cell_type": "code",
   "execution_count": null,
   "metadata": {},
   "outputs": [],
   "source": []
  },
  {
   "cell_type": "code",
   "execution_count": null,
   "metadata": {},
   "outputs": [],
   "source": []
  }
 ],
 "metadata": {
  "celltoolbar": "Slideshow",
  "kernelspec": {
   "display_name": "Python 3",
   "language": "python",
   "name": "python3"
  },
  "language_info": {
   "codemirror_mode": {
    "name": "ipython",
    "version": 3
   },
   "file_extension": ".py",
   "mimetype": "text/x-python",
   "name": "python",
   "nbconvert_exporter": "python",
   "pygments_lexer": "ipython3",
   "version": "3.6.5"
  }
 },
 "nbformat": 4,
 "nbformat_minor": 2
}
