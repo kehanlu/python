{
 "cells": [
  {
   "cell_type": "markdown",
   "metadata": {
    "slideshow": {
     "slide_type": "slide"
    }
   },
   "source": [
    "# 實際的例子 -- 爬蟲\n",
    "\n",
    "`hanklu`  `臺科大程式設計社`"
   ]
  },
  {
   "cell_type": "markdown",
   "metadata": {
    "slideshow": {
     "slide_type": "slide"
    }
   },
   "source": [
    "## 快速複習\n",
    "\n",
    "我們前幾週的課程裡面介紹了，並寫了一些不太有趣的練習題\n",
    "\n",
    "- variable and its type\n",
    "- if/else\n",
    "- loop\n",
    "    - while\n",
    "    - for\n",
    "- define function\n",
    "- import"
   ]
  },
  {
   "cell_type": "markdown",
   "metadata": {
    "slideshow": {
     "slide_type": "subslide"
    }
   },
   "source": [
    "`int`, `float`, `str`, `list`, `dict`\n",
    "![](https://i.imgur.com/FstpeaU.png)"
   ]
  },
  {
   "cell_type": "markdown",
   "metadata": {
    "slideshow": {
     "slide_type": "subslide"
    }
   },
   "source": [
    "## `if statement`\n",
    "\n",
    "- `if` （如果）：第一個條件\n",
    "- `elif` （否則如果）：其他條件，可以有 0~多個\n",
    "- `else` （否則）：沒有符合前述 condition 的其他狀況，可以不使用\n",
    "- 每一組只會有一個（或沒有）條件成立\n",
    "- 記得在屁股加上 `:` (冒號)\n",
    "- 需要以一個縮排`indent`（實際上為四個空白），做「排版」\n",
    "\n",
    "```python\n",
    "if <condition>:\n",
    "    <statement>\n",
    "    <statement>\n",
    "elif <condition>:\n",
    "    <statement>\n",
    "else:\n",
    "    <statement>\n",
    "```"
   ]
  },
  {
   "cell_type": "markdown",
   "metadata": {
    "slideshow": {
     "slide_type": "subslide"
    }
   },
   "source": [
    "## While Loop\n",
    "\n",
    "- 當條件成立，就執行 block 裡面的程式碼，之後再回到while開頭再問一次條件是否成立\n",
    "- 條件不成立，就不執行 block 裡面的程式碼\n",
    "- while 的屁股要加上 `:` （冒號）\n",
    "- 記得用縮排 `indent` 當作 block\n",
    "\n",
    "```python\n",
    "while <condition>:\n",
    "    <statement>\n",
    "    <statement>\n",
    "```"
   ]
  },
  {
   "cell_type": "markdown",
   "metadata": {
    "slideshow": {
     "slide_type": "subslide"
    }
   },
   "source": [
    "# for loop\n",
    "\n",
    "- 遍歷整個 sequence ，每次 loop 拿出一個東西\n",
    "- 也一樣要用 `indent` 排版出 `block`\n",
    "- 後面要加上 `:`(冒號)\n",
    "- 和 `while` 一樣可以 `break` 和 `continue`\n",
    "\n",
    "```python\n",
    "for <variable> in <sequence>:\n",
    "    <statement>\n",
    "    <statement>\n",
    "```"
   ]
  },
  {
   "cell_type": "markdown",
   "metadata": {
    "slideshow": {
     "slide_type": "subslide"
    }
   },
   "source": [
    "## define function\n",
    "- `def` (define) 開頭\n",
    "- `function_name` ：自己命名的，和之前變數一樣，最好是個有意義的字\n",
    "- `()` 括號中放入參數，未來使用的時候傳入的值，就是一種變數啦\n",
    "- `return` 可有可無，但 function 只要遇到 `return` 就會結束，預設是 return `None`\n",
    "- call function 的時候的寫法就是 `function_name(x,y)`\n",
    "- 一樣要使用 `indent` 來排版 code block\n",
    "\n",
    "```python\n",
    "def function_name(x,y):\n",
    "    <statement>\n",
    "    <statement>\n",
    "    return <something>\n",
    "\n",
    "function_name(1,2)\n",
    "```"
   ]
  },
  {
   "cell_type": "markdown",
   "metadata": {
    "slideshow": {
     "slide_type": "slide"
    }
   },
   "source": [
    "## Class 類別\n",
    "\n",
    "(補充一個不需要實際寫，但要會用的概念)"
   ]
  },
  {
   "cell_type": "markdown",
   "metadata": {
    "slideshow": {
     "slide_type": "subslide"
    }
   },
   "source": [
    "我們之前學過的 `int`, `float`, `str`, `list`, `dict` 是 python 內建的型別\n",
    "\n",
    "當然也可以自己設計其他東西"
   ]
  },
  {
   "attachments": {},
   "cell_type": "markdown",
   "metadata": {
    "slideshow": {
     "slide_type": "-"
    }
   },
   "source": [
    "<img src=\"https://i.imgur.com/bllLm8h.png\" width=\"800px\">"
   ]
  },
  {
   "cell_type": "code",
   "execution_count": 4,
   "metadata": {
    "slideshow": {
     "slide_type": "subslide"
    }
   },
   "outputs": [
    {
     "name": "stdout",
     "output_type": "stream",
     "text": [
      "<class 'int'>\n",
      "<class 'str'>\n"
     ]
    }
   ],
   "source": [
    "x = 1\n",
    "print(type(x))\n",
    "\n",
    "y = \"hello world\"\n",
    "print(type(y))"
   ]
  },
  {
   "cell_type": "code",
   "execution_count": 11,
   "metadata": {
    "slideshow": {
     "slide_type": "-"
    }
   },
   "outputs": [
    {
     "name": "stdout",
     "output_type": "stream",
     "text": [
      "2019-04-08 21:02:59.920589\n",
      "<class 'datetime.datetime'>\n"
     ]
    }
   ],
   "source": [
    "import datetime\n",
    "today = datetime.datetime.today()\n",
    "print(today)\n",
    "print(type(today)) # today 是一個 datetime 的 object"
   ]
  },
  {
   "cell_type": "code",
   "execution_count": 26,
   "metadata": {
    "slideshow": {
     "slide_type": "subslide"
    }
   },
   "outputs": [
    {
     "name": "stdout",
     "output_type": "stream",
     "text": [
      "hi~ world\n",
      "['hello', 'world']\n"
     ]
    }
   ],
   "source": [
    "x = \"hello world\"\n",
    "print(x.replace(\"hello\", \"hi~\"))\n",
    "print(x.split())"
   ]
  },
  {
   "cell_type": "code",
   "execution_count": 27,
   "metadata": {
    "slideshow": {
     "slide_type": "-"
    }
   },
   "outputs": [
    {
     "name": "stdout",
     "output_type": "stream",
     "text": [
      "<class 'datetime.datetime'>\n",
      "2019 / 04 / 08\n",
      "8\n"
     ]
    }
   ],
   "source": [
    "import datetime\n",
    "today = datetime.datetime.today()\n",
    "\n",
    "print(type(today))\n",
    "print(today.strftime(\"%Y / %m / %d\")) # method\n",
    "print(today.day) # attribute"
   ]
  },
  {
   "cell_type": "markdown",
   "metadata": {
    "slideshow": {
     "slide_type": "slide"
    }
   },
   "source": [
    "## 網頁爬蟲\n",
    "\n",
    "一言以敝之：用 python 把從網路上抓取資料的動作自動化。\n",
    "\n",
    "- 資料是一種資產\n",
    "- 搜集資料很麻煩，只有少部分的資料被打包好了（PM2.5 歷史資料...）"
   ]
  },
  {
   "cell_type": "markdown",
   "metadata": {
    "slideshow": {
     "slide_type": "subslide"
    }
   },
   "source": [
    "一個一般的網頁，裡面包含了我想要取得的資料，但是沒人幫我整理好QQ\n",
    "\n",
    "![](https://i.imgur.com/Zq92L0t.png)"
   ]
  },
  {
   "cell_type": "markdown",
   "metadata": {
    "slideshow": {
     "slide_type": "subslide"
    }
   },
   "source": [
    "\n",
    "[pokemon](https://bulbapedia.bulbagarden.net/wiki/List_of_Pok%C3%A9mon_by_base_stats_(Generation_VII-present))\n",
    "![](https://i.imgur.com/oc0SEkG.png)"
   ]
  },
  {
   "cell_type": "markdown",
   "metadata": {
    "slideshow": {
     "slide_type": "slide"
    }
   },
   "source": [
    "## 基礎觀念\n",
    "\n",
    "簡單的爬蟲程式分成兩個部分\n",
    "\n",
    "- 抓取網頁內容\n",
    "- 分析"
   ]
  },
  {
   "cell_type": "markdown",
   "metadata": {
    "slideshow": {
     "slide_type": "subslide"
    }
   },
   "source": [
    "## 抓取網頁內容\n",
    "\n",
    "![](https://i.imgur.com/AkgHXm0.png)"
   ]
  },
  {
   "cell_type": "markdown",
   "metadata": {
    "slideshow": {
     "slide_type": "subslide"
    }
   },
   "source": [
    "![](https://i.imgur.com/0omTufK.png)"
   ]
  },
  {
   "cell_type": "markdown",
   "metadata": {
    "slideshow": {
     "slide_type": "subslide"
    }
   },
   "source": [
    "## 先安裝一下需要的套件："
   ]
  },
  {
   "cell_type": "code",
   "execution_count": 1,
   "metadata": {
    "slideshow": {
     "slide_type": "-"
    }
   },
   "outputs": [
    {
     "name": "stdout",
     "output_type": "stream",
     "text": [
      "Requirement already satisfied: requests in /Users/hank/.virtualenvs/DL/lib/python3.6/site-packages (2.18.4)\n",
      "Requirement already satisfied: idna<2.7,>=2.5 in /Users/hank/.virtualenvs/DL/lib/python3.6/site-packages (from requests) (2.6)\n",
      "Requirement already satisfied: chardet<3.1.0,>=3.0.2 in /Users/hank/.virtualenvs/DL/lib/python3.6/site-packages (from requests) (3.0.4)\n",
      "Requirement already satisfied: urllib3<1.23,>=1.21.1 in /Users/hank/.virtualenvs/DL/lib/python3.6/site-packages (from requests) (1.22)\n",
      "Requirement already satisfied: certifi>=2017.4.17 in /Users/hank/.virtualenvs/DL/lib/python3.6/site-packages (from requests) (2018.4.16)\n",
      "\u001b[33mYou are using pip version 10.0.0, however version 19.0.3 is available.\n",
      "You should consider upgrading via the 'pip install --upgrade pip' command.\u001b[0m\n",
      "Requirement already satisfied: bs4 in /Users/hank/.virtualenvs/DL/lib/python3.6/site-packages (0.0.1)\n",
      "Requirement already satisfied: beautifulsoup4 in /Users/hank/.virtualenvs/DL/lib/python3.6/site-packages (from bs4) (4.6.0)\n",
      "\u001b[33mYou are using pip version 10.0.0, however version 19.0.3 is available.\n",
      "You should consider upgrading via the 'pip install --upgrade pip' command.\u001b[0m\n"
     ]
    }
   ],
   "source": [
    "# install package\n",
    "!pip install requests\n",
    "!pip install bs4\n",
    "\n",
    "# or run command in terminal"
   ]
  },
  {
   "cell_type": "code",
   "execution_count": 31,
   "metadata": {},
   "outputs": [
    {
     "name": "stdout",
     "output_type": "stream",
     "text": [
      "<Response [200]>\n"
     ]
    }
   ],
   "source": [
    "import requests\n",
    "\n",
    "resp = requests.get(\"https://coodle.hanklu.tw/\")\n",
    "print(resp)"
   ]
  },
  {
   "cell_type": "code",
   "execution_count": 32,
   "metadata": {},
   "outputs": [
    {
     "name": "stdout",
     "output_type": "stream",
     "text": [
      "\n",
      "<!DOCTYPE html>\n",
      "<html lang=\"zh-tw\">\n",
      "\n",
      "<head>\n",
      "  <meta charset=\"UTF-8\">\n",
      "  <meta name=\"viewport\" content=\"width=device-width, initial-scale=1.0\">\n",
      "  <title>Coodle</title>\n",
      "  <link rel=\"stylesheet\" href=\"https://cdnjs.cloudflare.com/ajax/libs/bulma/0.7.2/css/bulma.min.css\">\n",
      "  <script defer src=\"https://use.fontawesome.com/releases/v5.3.1/js/all.js\"></script>\n",
      "  <link rel=\"stylesheet\" href=\"//cdnjs.cloudflare.com/ajax/libs/highlight.js/9.15.6/styles/tomorrow.min.css\">\n",
      "  <script src=\"//cdnjs.cloudflare.com/ajax/libs/highlight.js/9.15.6/highlight.min.js\"></script>\n",
      "  <link rel=\"stylesheet\" href=\"/static/css/style.css\">\n",
      "  \n",
      "  \n",
      "</head>\n",
      "\n",
      "\n",
      "<body>\n",
      "  \n",
      "<nav class=\"navbar\" role=\"navigation\" aria-label=\"main navigation\">\n",
      "  <div class=\"container\">\n",
      "    <div class=\"navbar-brand\">\n",
      "      <a class=\"navbar-item\" href=\"/\">\n",
      "        Coodle\n",
      "      </a>\n",
      "\n",
      "      <a role=\"button\" class=\"navbar-burger burger\" aria-label=\"menu\" aria-expanded=\"false\" data-target=\"navbarBasicExample\">\n",
      "        <span aria-hidden=\"true\"></span>\n",
      "        <span aria-hidden=\"true\"></span>\n",
      "        <span aria-hidden=\"true\"></span>\n",
      "      </a>\n",
      "    </div>\n",
      "\n",
      "    <div id=\"navbarBasicExample\" class=\"navbar-menu\">\n",
      "\n",
      "      <div class=\"navbar-start\">\n",
      "        <a class=\"navbar-item\" href=\"/problem\">\n",
      "          練習題\n",
      "        </a>\n",
      "        <a class=\"navbar-item\" href=\"/discuss\">\n",
      "          討論區\n",
      "        </a>\n",
      "        \n",
      "\n",
      "      </div>\n",
      "\n",
      "      <div class=\"navbar-end\">\n",
      "\n",
      "\n",
      "\n",
      "\n",
      "        <div class=\"navbar-item\">\n",
      "          \n",
      "          <a class=\"bd-tw-button button\" href=\"/accounts/login\">\n",
      "            登入\n",
      "          </a>\n",
      "          \n",
      "\n",
      "          <!-- <div class=\"navbar-item\"> -->\n",
      "          <a class=\"bd-tw-button button\" href=\"https://github.com/kehanlu/python\">\n",
      "            <span class=\"icon\">\n",
      "              <i class=\"fab fa-github\"></i>\n",
      "            </span>\n",
      "            <span>\n",
      "              課程資訊\n",
      "            </span>\n",
      "          </a>\n",
      "          <!-- </div> -->\n",
      "\n",
      "        </div>\n",
      "      </div>\n",
      "    </div>\n",
      "  </div>\n",
      "</nav>\n",
      "\n",
      "  \n",
      "\n",
      "  <div class=\"container\">\n",
      "    \n",
      "<div class=\"columns is-centered\">\n",
      "  <div class=\"column is-half\">\n",
      "    <img src=\"/static/img/mainpage.jpg\" style=\"display: block;margin-left: auto;margin-right: auto;width: 100%;\">\n",
      "  </div>\n",
      "</div>\n",
      "\n",
      "  </div>\n",
      "\n",
      "  \n",
      "\n",
      "</body>\n",
      "\n",
      "\n",
      "\n",
      "\n",
      "<script>\n",
      "  document.addEventListener('DOMContentLoaded', function () {\n",
      "    var $navbarBurgers = Array.prototype.slice.call(document.querySelectorAll('.navbar-burger'), 0);\n",
      "    if ($navbarBurgers.length > 0) {\n",
      "      $navbarBurgers.forEach(function ($el) {\n",
      "        $el.addEventListener('click', function () {\n",
      "          var target = $el.dataset.target;\n",
      "          var $target = document.getElementById(target);\n",
      "          $el.classList.toggle('is-active');\n",
      "          $target.classList.toggle('is-active');\n",
      "        });\n",
      "      });\n",
      "    }\n",
      "  });\n",
      "</script>\n",
      "\n",
      "</html>\n"
     ]
    }
   ],
   "source": [
    "print(resp.text)"
   ]
  },
  {
   "cell_type": "code",
   "execution_count": null,
   "metadata": {},
   "outputs": [],
   "source": [
    "<img src=\"https://i.imgur.com/WuU4SCk.png\" width=\"400px\">"
   ]
  }
 ],
 "metadata": {
  "celltoolbar": "Slideshow",
  "kernelspec": {
   "display_name": "Python 3",
   "language": "python",
   "name": "python3"
  },
  "language_info": {
   "codemirror_mode": {
    "name": "ipython",
    "version": 3
   },
   "file_extension": ".py",
   "mimetype": "text/x-python",
   "name": "python",
   "nbconvert_exporter": "python",
   "pygments_lexer": "ipython3",
   "version": "3.6.5"
  }
 },
 "nbformat": 4,
 "nbformat_minor": 2
}
