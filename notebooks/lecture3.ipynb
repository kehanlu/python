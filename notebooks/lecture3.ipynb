{
 "cells": [
  {
   "cell_type": "markdown",
   "metadata": {
    "slideshow": {
     "slide_type": "slide"
    }
   },
   "source": [
    "# Condition\n",
    "\n",
    "`臺科大 程式設計研究社`\n",
    "\n",
    "`hanklu`"
   ]
  },
  {
   "cell_type": "markdown",
   "metadata": {
    "slideshow": {
     "slide_type": "slide"
    }
   },
   "source": [
    "## 條件判斷的運算子\n",
    "- 回傳 True/False\n",
    "\n",
    "|運算子|作用|\n",
    "|--|--|\n",
    "|`a == b`| a 和 b 相等|\n",
    "|`a != b`| a 和 b 不相等|\n",
    "|`a > b`| |\n",
    "|`a < b`| |\n",
    "|`a >= b`| |\n",
    "|`a <= b`| |\n"
   ]
  },
  {
   "cell_type": "code",
   "execution_count": 4,
   "metadata": {
    "slideshow": {
     "slide_type": "subslide"
    }
   },
   "outputs": [
    {
     "name": "stdout",
     "output_type": "stream",
     "text": [
      "True\n",
      "True\n",
      "True\n",
      "True\n",
      "True\n",
      "False\n"
     ]
    }
   ],
   "source": [
    "print(1==1)\n",
    "print(2!=1)\n",
    "print(2>1)\n",
    "print(2>=1)\n",
    "\n",
    "print(1<2)\n",
    "print(1==2)"
   ]
  },
  {
   "cell_type": "markdown",
   "metadata": {
    "slideshow": {
     "slide_type": "subslide"
    }
   },
   "source": [
    "## 每一種 type 都可以對應到 True/False\n",
    "\n",
    "### False\n",
    "\n",
    "- zero of any numeric type\n",
    "- any empty sequence\n",
    "- any empty mapping\n",
    "\n",
    "|範例|說明|\n",
    "|--|--|\n",
    "|0|零|\n",
    "|0.0||\n",
    "|''|空的 string|\n",
    "|[]|空的 list|\n",
    "|{}|空的 dict |\n",
    "\n",
    "### 其他都是 True"
   ]
  },
  {
   "cell_type": "code",
   "execution_count": 8,
   "metadata": {
    "slideshow": {
     "slide_type": "subslide"
    }
   },
   "outputs": [
    {
     "name": "stdout",
     "output_type": "stream",
     "text": [
      "False\n",
      "True\n",
      "False\n",
      "True\n",
      "False\n",
      "True\n",
      "False\n",
      "True\n"
     ]
    }
   ],
   "source": [
    "print(bool(0))\n",
    "print(bool(1))\n",
    "\n",
    "print(bool(''))\n",
    "print(bool('Haha'))\n",
    "\n",
    "print(bool([]))\n",
    "print(bool(['haha','heyhey']))\n",
    "\n",
    "print(bool({}))\n",
    "print(bool({'name':'hank'}))"
   ]
  },
  {
   "cell_type": "markdown",
   "metadata": {
    "slideshow": {
     "slide_type": "slide"
    }
   },
   "source": [
    "## `If` `elif`  `else`\n",
    "\n",
    "- 在此之前我們看到的程式都是逐行執行（sequential execution）\n",
    "- 現在我們多了比較複雜的控制結構\n",
    "\n",
    "![](http://3.bp.blogspot.com/-uu_nZTD71s0/TznCog-aTzI/AAAAAAAAkdY/x5_fxowoL2U/s640/cover.jpg)"
   ]
  },
  {
   "cell_type": "markdown",
   "metadata": {
    "slideshow": {
     "slide_type": "subslide"
    }
   },
   "source": [
    "## `if statement`\n",
    "\n",
    "- `if` （如果）：第一個條件\n",
    "- `elif` （否則如果）：其他條件，可以有 0~多個\n",
    "- `else` （否則）：沒有符合前述 condition 的其他狀況，可以不使用\n",
    "- 每一組只會有一個（或沒有）條件成立\n",
    "- 記得在屁股加上 `:` (冒號)\n",
    "- 需要以一個縮排`indent`（實際上為四個空白），做「排版」\n",
    "\n",
    "```python\n",
    "if <condition>:\n",
    "    <statement>\n",
    "    <statement>\n",
    "elif <condition>:\n",
    "    <statement>\n",
    "else:\n",
    "    <statement>\n",
    "```"
   ]
  },
  {
   "cell_type": "markdown",
   "metadata": {},
   "source": [
    "```\n",
    "如果你是電資學院:\n",
    "    請用手指比出 1\n",
    "否則如果你是管理學院:\n",
    "    請用手指比出 2\n",
    "否則:\n",
    "    請用手指比出 3\n",
    "```"
   ]
  },
  {
   "cell_type": "markdown",
   "metadata": {
    "slideshow": {
     "slide_type": "subslide"
    }
   },
   "source": [
    "```\n",
    "如果你是 2000 年以前出生:\n",
    "    如果你是男生:\n",
    "        請用手指比出 1\n",
    "    否則如果你是女生:\n",
    "        請用手指比出 2\n",
    "        \n",
    "否則如果你是 2000 年以後出生:\n",
    "    如果你是男生:\n",
    "        請用手指比出 3\n",
    "    否則如果你是女生:\n",
    "        請用手指比出 4\n",
    "```"
   ]
  },
  {
   "cell_type": "markdown",
   "metadata": {
    "slideshow": {
     "slide_type": "subslide"
    }
   },
   "source": [
    "![](https://www.tutorialspoint.com/scala/images/scala_decision_making.jpg)"
   ]
  },
  {
   "cell_type": "code",
   "execution_count": 9,
   "metadata": {
    "slideshow": {
     "slide_type": "subslide"
    }
   },
   "outputs": [
    {
     "name": "stdout",
     "output_type": "stream",
     "text": [
      "is > 2\n"
     ]
    }
   ],
   "source": [
    "x = 5\n",
    "\n",
    "if x > 5:\n",
    "    print(\"is > 5\")\n",
    "elif x > 2:\n",
    "    print(\"is > 2\")\n",
    "elif x > 0:\n",
    "    print(\"is > 0\")\n",
    "else:\n",
    "    print(\"is <= 2\")"
   ]
  },
  {
   "cell_type": "code",
   "execution_count": 10,
   "metadata": {
    "slideshow": {
     "slide_type": "subslide"
    }
   },
   "outputs": [
    {
     "name": "stdout",
     "output_type": "stream",
     "text": [
      "^_^\n"
     ]
    }
   ],
   "source": [
    "x = 6\n",
    "if x > 5:\n",
    "    print(\"^_^\")"
   ]
  },
  {
   "cell_type": "code",
   "execution_count": 11,
   "metadata": {
    "slideshow": {
     "slide_type": "subslide"
    }
   },
   "outputs": [
    {
     "name": "stdout",
     "output_type": "stream",
     "text": [
      "x<=15 :)\n"
     ]
    }
   ],
   "source": [
    "x = 10\n",
    "if x >15:\n",
    "    print(\"x>15\")\n",
    "else:\n",
    "    print(\"x<=15 :)\")"
   ]
  },
  {
   "cell_type": "code",
   "execution_count": null,
   "metadata": {
    "slideshow": {
     "slide_type": "subslide"
    }
   },
   "outputs": [],
   "source": [
    "# https://www.ptt.cc/bbs/Salary/M.1496888683.A.057.html\n",
    "\n",
    "salary = int(input())\n",
    "\n",
    "if salary >= 61437:\n",
    "    print(\"你的所得贏過 90% 的人\")\n",
    "elif salary >= 33502:\n",
    "    print(\"贏過 50% 的人\")\n",
    "else:\n",
    "    print(\"低於一半的人\")"
   ]
  },
  {
   "cell_type": "markdown",
   "metadata": {
    "slideshow": {
     "slide_type": "subslide"
    }
   },
   "source": [
    "## fix bug"
   ]
  },
  {
   "cell_type": "code",
   "execution_count": 13,
   "metadata": {
    "slideshow": {
     "slide_type": "-"
    }
   },
   "outputs": [
    {
     "ename": "SyntaxError",
     "evalue": "invalid syntax (<ipython-input-13-30988a25ab08>, line 1)",
     "output_type": "error",
     "traceback": [
      "\u001b[0;36m  File \u001b[0;32m\"<ipython-input-13-30988a25ab08>\"\u001b[0;36m, line \u001b[0;32m1\u001b[0m\n\u001b[0;31m    if bmi>17\u001b[0m\n\u001b[0m             ^\u001b[0m\n\u001b[0;31mSyntaxError\u001b[0m\u001b[0;31m:\u001b[0m invalid syntax\n"
     ]
    }
   ],
   "source": [
    "if bmi>17\n",
    "print(\"bmi is > 5\")\n",
    "else\n",
    "print(\"bmi is <=5\")"
   ]
  },
  {
   "cell_type": "markdown",
   "metadata": {
    "slideshow": {
     "slide_type": "subslide"
    }
   },
   "source": [
    "## fix bug"
   ]
  },
  {
   "cell_type": "code",
   "execution_count": 22,
   "metadata": {
    "slideshow": {
     "slide_type": "-"
    }
   },
   "outputs": [
    {
     "ename": "SyntaxError",
     "evalue": "invalid syntax (<ipython-input-22-6b149edd5fe7>, line 2)",
     "output_type": "error",
     "traceback": [
      "\u001b[0;36m  File \u001b[0;32m\"<ipython-input-22-6b149edd5fe7>\"\u001b[0;36m, line \u001b[0;32m2\u001b[0m\n\u001b[0;31m    if x>5\u001b[0m\n\u001b[0m          ^\u001b[0m\n\u001b[0;31mSyntaxError\u001b[0m\u001b[0;31m:\u001b[0m invalid syntax\n"
     ]
    }
   ],
   "source": [
    "x = 1\n",
    "if x>5\n",
    "    print(\"x is > 5\")\n",
    "else\n",
    "    print(\"x is <= 5\")"
   ]
  },
  {
   "cell_type": "markdown",
   "metadata": {
    "slideshow": {
     "slide_type": "subslide"
    }
   },
   "source": [
    "## 練習：找大的\n",
    "\n",
    "輸入兩個數字，輸出比較大的那一個"
   ]
  },
  {
   "cell_type": "code",
   "execution_count": null,
   "metadata": {},
   "outputs": [],
   "source": [
    "x = 1\n",
    "y = 2\n",
    "\n",
    "if # ..."
   ]
  },
  {
   "cell_type": "markdown",
   "metadata": {
    "slideshow": {
     "slide_type": "subslide"
    }
   },
   "source": [
    "## 練習：奇偶\n",
    "\n",
    "輸入一個數，判斷他是奇數還是偶數？"
   ]
  },
  {
   "cell_type": "code",
   "execution_count": null,
   "metadata": {},
   "outputs": [],
   "source": [
    "number = int(input())\n",
    "\n",
    "# Do it yourself\n",
    "if number\n",
    "\n",
    "else"
   ]
  },
  {
   "cell_type": "markdown",
   "metadata": {
    "slideshow": {
     "slide_type": "subslide"
    }
   },
   "source": [
    "## 練習： 等第制的成績\n",
    "\n",
    "輸入原始成績，輸出這門課得到的等地\n",
    "\n",
    "- A >= 80\n",
    "- B >= 70\n",
    "- C >= 60\n",
    "- D < 60"
   ]
  },
  {
   "cell_type": "code",
   "execution_count": null,
   "metadata": {},
   "outputs": [],
   "source": [
    "# DIY\n",
    "\n",
    "grade = # input\n",
    "\n",
    "if grade\n",
    "\n",
    "else if grade\n",
    "\n",
    "else if grade\n",
    "\n",
    "else"
   ]
  },
  {
   "cell_type": "markdown",
   "metadata": {
    "slideshow": {
     "slide_type": "subslide"
    }
   },
   "source": [
    "## 練習： 肥宅\n",
    "\n",
    "肥宅都不運動，輸入身高(cm)、體重(kg)，幫忙他算出 BMI 是多少吧，並告訴他現在的狀態是什麼八\n",
    "\n",
    "- 18.5 以下 過輕\n",
    "- 18.5~25 正常\n",
    "- 25 以上 過重\n",
    "\n",
    "如：\n",
    "\n",
    "`180` `70` -> `21.6 正常`\n",
    "\n",
    "`170` `140` -> `48.4 過重`\n",
    "\n",
    "`129.3` `129.3` -> `77.3 過重`"
   ]
  },
  {
   "cell_type": "markdown",
   "metadata": {
    "slideshow": {
     "slide_type": "slide"
    }
   },
   "source": [
    "## 比較複雜的邏輯\n",
    "\n",
    "|運算子|作用|\n",
    "|--|--|\n",
    "|`not x`|反向邏輯（True to False,False to True）|\n",
    "|`a and b`||\n",
    "|`a or b`||\n",
    "|`a in b`|a 屬於 b|"
   ]
  },
  {
   "cell_type": "code",
   "execution_count": 21,
   "metadata": {
    "slideshow": {
     "slide_type": "subslide"
    }
   },
   "outputs": [
    {
     "name": "stdout",
     "output_type": "stream",
     "text": [
      "False\n",
      "True\n",
      "False\n",
      "True\n"
     ]
    }
   ],
   "source": [
    "print(not True)\n",
    "print(not False)\n",
    "\n",
    "print(True and True and False) # and: 其中有 False 就是 False\n",
    "\n",
    "print(True or False or False) # or: 其中有 True 就是 True"
   ]
  },
  {
   "cell_type": "markdown",
   "metadata": {},
   "source": [
    "## 練習：找大的2\n",
    "\n",
    "輸入三個數字，輸出最大的那一個"
   ]
  },
  {
   "cell_type": "code",
   "execution_count": null,
   "metadata": {},
   "outputs": [],
   "source": [
    "x = 1\n",
    "y = 2\n",
    "z = 3\n",
    "\n",
    "if #..."
   ]
  },
  {
   "cell_type": "markdown",
   "metadata": {
    "slideshow": {
     "slide_type": "subslide"
    }
   },
   "source": [
    "## 練習：剪刀石頭布\n",
    "\n",
    "和電腦玩剪刀石頭布吧！"
   ]
  },
  {
   "cell_type": "code",
   "execution_count": 2,
   "metadata": {},
   "outputs": [
    {
     "name": "stdout",
     "output_type": "stream",
     "text": [
      "剪刀\n"
     ]
    }
   ],
   "source": [
    "import random\n",
    "\n",
    "AI = random.choice(['剪','石','布']) # 電腦會隨機選一個\n",
    "player = input()"
   ]
  },
  {
   "cell_type": "markdown",
   "metadata": {
    "slideshow": {
     "slide_type": "subslide"
    }
   },
   "source": [
    "##  `a in b`\n",
    "\n",
    "常用在 `string`,`list`等結構中"
   ]
  },
  {
   "cell_type": "code",
   "execution_count": 24,
   "metadata": {
    "slideshow": {
     "slide_type": "-"
    }
   },
   "outputs": [
    {
     "name": "stdout",
     "output_type": "stream",
     "text": [
      "True\n",
      "False\n",
      "True\n",
      "True\n"
     ]
    }
   ],
   "source": [
    "x = \"hello world\"\n",
    "print('h' in x)\n",
    "print('cat' in x)\n",
    "print('cat' not in x)\n",
    "print('cat' not in x or 'world' not in x)"
   ]
  },
  {
   "cell_type": "code",
   "execution_count": 29,
   "metadata": {
    "slideshow": {
     "slide_type": "subslide"
    }
   },
   "outputs": [
    {
     "name": "stdout",
     "output_type": "stream",
     "text": [
      "True\n",
      "False\n",
      "False\n"
     ]
    }
   ],
   "source": [
    "fruits = ['apple','orange','banana','mango']\n",
    "print('apple' in fruits)\n",
    "print('pineapple' in fruits)\n",
    "print('Apple' in fruits)"
   ]
  },
  {
   "cell_type": "code",
   "execution_count": null,
   "metadata": {
    "slideshow": {
     "slide_type": "subslide"
    }
   },
   "outputs": [],
   "source": [
    "question = input('請輸入：')\n",
    "\n",
    "if \"天氣\" in question:\n",
    "    print(\"晴時多雲偶陣雨\")\n",
    "elif \"新聞\" in question:\n",
    "    print(\"新聞都是假的\")\n",
    "elif \"肥宅科大\" in question:\n",
    "    print(\"你是指台科嗎？\")\n",
    "    \n",
    "elif \"謝謝\" == question:\n",
    "    print(\"不客氣\")\n",
    "elif \"你好爛\" == question:\n",
    "    print(\"抱歉，我還在學習\")\n",
    "else:\n",
    "    print(\"我聽不懂你在說什麼喔\")"
   ]
  },
  {
   "cell_type": "markdown",
   "metadata": {
    "slideshow": {
     "slide_type": "subslide"
    }
   },
   "source": [
    "## 練習：期末考\n",
    "\n",
    "為了拯救期末考，你寫了一支程式，輸入期中、作業成績，算一下期末至少要考幾分才會及格？\n",
    "\n",
    "成績占比：\n",
    "- 期中 30%\n",
    "- 期末 40%\n",
    "- 作業 30%\n",
    "\n",
    "\n",
    "- 如果不可能及格，`print(\"提早放棄\")`\n",
    "- 如果不用考也可以及格，`print(\"提早放假\")`"
   ]
  },
  {
   "cell_type": "code",
   "execution_count": 31,
   "metadata": {
    "slideshow": {
     "slide_type": "-"
    }
   },
   "outputs": [
    {
     "name": "stdout",
     "output_type": "stream",
     "text": [
      "0\n",
      "0\n"
     ]
    }
   ],
   "source": [
    "midtern = int(input())\n",
    "homework = int(input())\n",
    "# do yourself"
   ]
  },
  {
   "cell_type": "markdown",
   "metadata": {
    "slideshow": {
     "slide_type": "slide"
    }
   },
   "source": [
    "## 巢狀結構(nest)\n",
    "\n",
    "- 很多層\n",
    "- 只要記清楚 if 的規則，就可以很輕鬆的判斷\n",
    "- 不同縮排（`indent`），為不同的 if statement"
   ]
  },
  {
   "cell_type": "code",
   "execution_count": null,
   "metadata": {
    "slideshow": {
     "slide_type": "subslide"
    }
   },
   "outputs": [],
   "source": [
    "x = 10\n",
    "if x > 5:\n",
    "    print(\"x>5\")\n",
    "    \n",
    "    if x > 10:\n",
    "        print(\"x>10\")\n",
    "    else:\n",
    "        print(\"x>5 but x<=10\")\n",
    "else:\n",
    "    print(\"x<=5\")"
   ]
  },
  {
   "cell_type": "markdown",
   "metadata": {
    "slideshow": {
     "slide_type": "subslide"
    }
   },
   "source": [
    "## fix bug\n",
    "\n",
    "- 如果有問題，判斷是不是可以解決\n",
    "    - 可以解決：have problem in life but i can solve it\n",
    "    - 不能解決：have problem in life but i dont know how to deal with it\n",
    "- 如果沒有問題：i dont have problem in life"
   ]
  },
  {
   "cell_type": "code",
   "execution_count": 32,
   "metadata": {},
   "outputs": [
    {
     "ename": "SyntaxError",
     "evalue": "invalid syntax (<ipython-input-32-965c75e6034c>, line 5)",
     "output_type": "error",
     "traceback": [
      "\u001b[0;36m  File \u001b[0;32m\"<ipython-input-32-965c75e6034c>\"\u001b[0;36m, line \u001b[0;32m5\u001b[0m\n\u001b[0;31m    if problem_in_life\u001b[0m\n\u001b[0m                      ^\u001b[0m\n\u001b[0;31mSyntaxError\u001b[0m\u001b[0;31m:\u001b[0m invalid syntax\n"
     ]
    }
   ],
   "source": [
    "problem_in_life = True\n",
    "can_solve = False\n",
    "\n",
    "# fix below\n",
    "if problem_in_life\n",
    "if can_solve:\n",
    "    print(\"have problem in life but i can solve it\")\n",
    "else:\n",
    "    print(\"have problem in life and i dont know how to deal with it\")\n",
    "else:\n",
    "    print(\"i dont have problem in life\")"
   ]
  },
  {
   "cell_type": "markdown",
   "metadata": {
    "slideshow": {
     "slide_type": "subslide"
    }
   },
   "source": [
    "## 練習：閏年\n",
    "\n",
    "輸入年份：判斷是不是閏年\n",
    "\n",
    "- 西元年份除以4不可整除，為平年。\n",
    "- 西元年份除以4可整除，且除以100不可整除，為閏年。\n",
    "- 西元年份除以100可整除，且除以400不可整除，為平年\n",
    "- 西元年份除以400可整除，為閏年。"
   ]
  },
  {
   "cell_type": "code",
   "execution_count": null,
   "metadata": {},
   "outputs": [],
   "source": []
  }
 ],
 "metadata": {
  "celltoolbar": "Slideshow",
  "kernelspec": {
   "display_name": "Python 3",
   "language": "python",
   "name": "python3"
  },
  "language_info": {
   "codemirror_mode": {
    "name": "ipython",
    "version": 3
   },
   "file_extension": ".py",
   "mimetype": "text/x-python",
   "name": "python",
   "nbconvert_exporter": "python",
   "pygments_lexer": "ipython3",
   "version": "3.6.5"
  }
 },
 "nbformat": 4,
 "nbformat_minor": 2
}
